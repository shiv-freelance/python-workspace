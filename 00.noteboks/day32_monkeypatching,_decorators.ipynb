{
  "nbformat": 4,
  "nbformat_minor": 0,
  "metadata": {
    "colab": {
      "provenance": []
    },
    "kernelspec": {
      "name": "python3",
      "display_name": "Python 3"
    },
    "language_info": {
      "name": "python"
    }
  },
  "cells": [
    {
      "cell_type": "code",
      "execution_count": null,
      "metadata": {
        "id": "pzzXQkNTlrE_"
      },
      "outputs": [],
      "source": [
        "# decorators"
      ]
    },
    {
      "cell_type": "code",
      "source": [
        "# function aliasing\n",
        "\n",
        "def add(a, b):\n",
        "  return a+b"
      ],
      "metadata": {
        "id": "6gtBvR1KpyZZ"
      },
      "execution_count": 1,
      "outputs": []
    },
    {
      "cell_type": "code",
      "source": [
        "new_add = add # function aliasing: take function name assign to a variable."
      ],
      "metadata": {
        "id": "XWr7Rxs_p5l3"
      },
      "execution_count": 2,
      "outputs": []
    },
    {
      "cell_type": "code",
      "source": [
        "add(10, 20)"
      ],
      "metadata": {
        "colab": {
          "base_uri": "https://localhost:8080/"
        },
        "id": "14CWPNEIqCBv",
        "outputId": "19392a8b-2e06-4ef1-ab9b-e707b47b9490"
      },
      "execution_count": 3,
      "outputs": [
        {
          "output_type": "execute_result",
          "data": {
            "text/plain": [
              "30"
            ]
          },
          "metadata": {},
          "execution_count": 3
        }
      ]
    },
    {
      "cell_type": "code",
      "source": [
        "new_add(10, 20)"
      ],
      "metadata": {
        "colab": {
          "base_uri": "https://localhost:8080/"
        },
        "id": "nSlPYQpkqHT7",
        "outputId": "1ae61a82-29f7-4e11-c397-c653d76853ff"
      },
      "execution_count": 4,
      "outputs": [
        {
          "output_type": "execute_result",
          "data": {
            "text/plain": [
              "30"
            ]
          },
          "metadata": {},
          "execution_count": 4
        }
      ]
    },
    {
      "cell_type": "code",
      "source": [
        "id(add)"
      ],
      "metadata": {
        "colab": {
          "base_uri": "https://localhost:8080/"
        },
        "id": "4hhECn6VqKK7",
        "outputId": "4343969e-8f1f-4c8d-ecb1-28d3ed61aae0"
      },
      "execution_count": 5,
      "outputs": [
        {
          "output_type": "execute_result",
          "data": {
            "text/plain": [
              "135399525889600"
            ]
          },
          "metadata": {},
          "execution_count": 5
        }
      ]
    },
    {
      "cell_type": "code",
      "source": [
        "id(new_add)"
      ],
      "metadata": {
        "colab": {
          "base_uri": "https://localhost:8080/"
        },
        "id": "KD5wkY8bqgRC",
        "outputId": "8acfba53-65d3-4979-94f7-0b462f6a1ba9"
      },
      "execution_count": 6,
      "outputs": [
        {
          "output_type": "execute_result",
          "data": {
            "text/plain": [
              "135399525889600"
            ]
          },
          "metadata": {},
          "execution_count": 6
        }
      ]
    },
    {
      "cell_type": "code",
      "source": [
        "id(add) == id(new_add)"
      ],
      "metadata": {
        "colab": {
          "base_uri": "https://localhost:8080/"
        },
        "id": "qPscAroAqihA",
        "outputId": "1805b07a-fb84-4074-8aa4-c8c85b6afa2b"
      },
      "execution_count": 7,
      "outputs": [
        {
          "output_type": "execute_result",
          "data": {
            "text/plain": [
              "True"
            ]
          },
          "metadata": {},
          "execution_count": 7
        }
      ]
    },
    {
      "cell_type": "code",
      "source": [
        "# monkeypatching: changing the behaviour of method/function at run time is called monkeymatching"
      ],
      "metadata": {
        "id": "4iCr9M05qoO8"
      },
      "execution_count": null,
      "outputs": []
    },
    {
      "cell_type": "code",
      "source": [
        "def greet():\n",
        "  print(\"Good Moring!\")\n",
        "\n",
        "def wish():\n",
        "  print(\"Happy birthday!\")"
      ],
      "metadata": {
        "id": "JBQgCpJRrHh5"
      },
      "execution_count": 14,
      "outputs": []
    },
    {
      "cell_type": "code",
      "source": [
        "greet()"
      ],
      "metadata": {
        "colab": {
          "base_uri": "https://localhost:8080/"
        },
        "id": "w58tSj4orTGQ",
        "outputId": "f9b55479-b0cb-4068-b98b-658e190d16e7"
      },
      "execution_count": 15,
      "outputs": [
        {
          "output_type": "stream",
          "name": "stdout",
          "text": [
            "Good Moring!\n"
          ]
        }
      ]
    },
    {
      "cell_type": "code",
      "source": [
        "wish()"
      ],
      "metadata": {
        "colab": {
          "base_uri": "https://localhost:8080/"
        },
        "id": "Kf8RnPo4rUN9",
        "outputId": "01064d59-7262-4a72-9234-76628360eb0e"
      },
      "execution_count": 16,
      "outputs": [
        {
          "output_type": "stream",
          "name": "stdout",
          "text": [
            "Happy birthday!\n"
          ]
        }
      ]
    },
    {
      "cell_type": "code",
      "source": [
        "id(greet)"
      ],
      "metadata": {
        "colab": {
          "base_uri": "https://localhost:8080/"
        },
        "id": "Dom5lvpSr4XX",
        "outputId": "d21fe622-de10-4f4c-c2a3-5546f292f554"
      },
      "execution_count": 17,
      "outputs": [
        {
          "output_type": "execute_result",
          "data": {
            "text/plain": [
              "135399524351088"
            ]
          },
          "metadata": {},
          "execution_count": 17
        }
      ]
    },
    {
      "cell_type": "code",
      "source": [
        "id(wish)"
      ],
      "metadata": {
        "colab": {
          "base_uri": "https://localhost:8080/"
        },
        "id": "S_N9J5A-r7dc",
        "outputId": "89209a5f-05da-4ef6-b6a3-2bf2a8062e77"
      },
      "execution_count": 18,
      "outputs": [
        {
          "output_type": "execute_result",
          "data": {
            "text/plain": [
              "135399524348496"
            ]
          },
          "metadata": {},
          "execution_count": 18
        }
      ]
    },
    {
      "cell_type": "code",
      "source": [
        "wish = greet # function aliasing"
      ],
      "metadata": {
        "id": "H79gTCsVrVfy"
      },
      "execution_count": 19,
      "outputs": []
    },
    {
      "cell_type": "code",
      "source": [
        "greet()"
      ],
      "metadata": {
        "colab": {
          "base_uri": "https://localhost:8080/"
        },
        "id": "Tr9GK_lorozj",
        "outputId": "b1c79ca5-a642-4999-df56-502b8e0eca30"
      },
      "execution_count": 20,
      "outputs": [
        {
          "output_type": "stream",
          "name": "stdout",
          "text": [
            "Good Moring!\n"
          ]
        }
      ]
    },
    {
      "cell_type": "code",
      "source": [
        "wish()"
      ],
      "metadata": {
        "colab": {
          "base_uri": "https://localhost:8080/"
        },
        "id": "UmVGuyDlrrZc",
        "outputId": "a322a240-ddc4-4d5b-95fd-19a9bd4c6c02"
      },
      "execution_count": 21,
      "outputs": [
        {
          "output_type": "stream",
          "name": "stdout",
          "text": [
            "Good Moring!\n"
          ]
        }
      ]
    },
    {
      "cell_type": "code",
      "source": [
        "id(greet)"
      ],
      "metadata": {
        "colab": {
          "base_uri": "https://localhost:8080/"
        },
        "id": "DJkiRrUeru5F",
        "outputId": "0dbca41c-65d8-47bb-87e6-4cde7b4dea85"
      },
      "execution_count": 22,
      "outputs": [
        {
          "output_type": "execute_result",
          "data": {
            "text/plain": [
              "135399524351088"
            ]
          },
          "metadata": {},
          "execution_count": 22
        }
      ]
    },
    {
      "cell_type": "code",
      "source": [
        "id(wish)"
      ],
      "metadata": {
        "colab": {
          "base_uri": "https://localhost:8080/"
        },
        "id": "JLXjLPTRsB-y",
        "outputId": "03f1b797-4874-489f-e0c2-f458c2a83325"
      },
      "execution_count": 24,
      "outputs": [
        {
          "output_type": "execute_result",
          "data": {
            "text/plain": [
              "135399524351088"
            ]
          },
          "metadata": {},
          "execution_count": 24
        }
      ]
    },
    {
      "cell_type": "code",
      "source": [],
      "metadata": {
        "id": "8HFskYrSsC8U"
      },
      "execution_count": null,
      "outputs": []
    },
    {
      "cell_type": "code",
      "source": [
        "# decorators:\n",
        "\n",
        "# a function --> 5 locations ---> 1 location (additional functionality), not required for remaing 4  --> will implement decorator\n",
        "# syntax:\n",
        "def decor(func):\n",
        "  def wrapper(arg):\n",
        "    return func(arg)\n",
        "\n",
        "  return func"
      ],
      "metadata": {
        "id": "CMXptXYMsXH-"
      },
      "execution_count": 25,
      "outputs": []
    },
    {
      "cell_type": "code",
      "source": [
        "def division_decor(func):\n",
        "  def wrapper(x, y):\n",
        "    print(\"inside of wrapper\")\n",
        "    result = func(x, y)\n",
        "    print('wrapper is done')\n",
        "    return result\n",
        "\n",
        "  return wrapper"
      ],
      "metadata": {
        "id": "be1NhCjFteuk"
      },
      "execution_count": 36,
      "outputs": []
    },
    {
      "cell_type": "code",
      "source": [
        "@division_decor\n",
        "def division(a, b):\n",
        "  print(\"inside of division\")\n",
        "  return a/b"
      ],
      "metadata": {
        "id": "cHhd-Wo_t2m1"
      },
      "execution_count": 37,
      "outputs": []
    },
    {
      "cell_type": "code",
      "source": [
        "division(10, 2)"
      ],
      "metadata": {
        "colab": {
          "base_uri": "https://localhost:8080/"
        },
        "id": "Csi5J3ORuLtH",
        "outputId": "72bef0df-9424-4f0c-e323-71c4761bd419"
      },
      "execution_count": 38,
      "outputs": [
        {
          "output_type": "stream",
          "name": "stdout",
          "text": [
            "inside of wrapper\n",
            "inside of division\n",
            "wrapper is done\n"
          ]
        },
        {
          "output_type": "execute_result",
          "data": {
            "text/plain": [
              "5.0"
            ]
          },
          "metadata": {},
          "execution_count": 38
        }
      ]
    },
    {
      "cell_type": "code",
      "source": [
        "# inside of wrapper\n",
        "# inside of division\n",
        "# wrapper is done\n",
        "# 5.0"
      ],
      "metadata": {
        "id": "alLt-zwvuNm5"
      },
      "execution_count": null,
      "outputs": []
    },
    {
      "cell_type": "code",
      "source": [
        "def division_decor1(func):\n",
        "  def wrapper(a, b):\n",
        "    print(\"inside of wrapper\")\n",
        "    if b == 0:\n",
        "      print(\"you are dividing with zero, you will not get result\")\n",
        "      return\n",
        "    result = func(a, b)\n",
        "    print('wrapper is done')\n",
        "    return result\n",
        "\n",
        "  return wrapper"
      ],
      "metadata": {
        "id": "2qcu209kxaJN"
      },
      "execution_count": 43,
      "outputs": []
    },
    {
      "cell_type": "code",
      "source": [
        "@division_decor1\n",
        "def division1(a, b):\n",
        "  print(\"inside of division\")\n",
        "  return a/b"
      ],
      "metadata": {
        "id": "zsn98faaxcsX"
      },
      "execution_count": 45,
      "outputs": []
    },
    {
      "cell_type": "code",
      "source": [
        "division1(10, 2)"
      ],
      "metadata": {
        "colab": {
          "base_uri": "https://localhost:8080/"
        },
        "id": "w-xxhaHlxeU4",
        "outputId": "df0fdc4c-40a8-4265-ac54-dcbc484f9dea"
      },
      "execution_count": 46,
      "outputs": [
        {
          "output_type": "stream",
          "name": "stdout",
          "text": [
            "inside of wrapper\n",
            "inside of division\n",
            "wrapper is done\n"
          ]
        },
        {
          "output_type": "execute_result",
          "data": {
            "text/plain": [
              "5.0"
            ]
          },
          "metadata": {},
          "execution_count": 46
        }
      ]
    },
    {
      "cell_type": "code",
      "source": [
        "division1(10, 0)"
      ],
      "metadata": {
        "colab": {
          "base_uri": "https://localhost:8080/"
        },
        "id": "5pWviuwpxlGq",
        "outputId": "7ffc8286-897b-41e6-8fe1-560d766c4c78"
      },
      "execution_count": 47,
      "outputs": [
        {
          "output_type": "stream",
          "name": "stdout",
          "text": [
            "inside of wrapper\n",
            "you are dividing with zero, you will not get result\n"
          ]
        }
      ]
    },
    {
      "cell_type": "code",
      "source": [
        "# timer decorator\n",
        "import time"
      ],
      "metadata": {
        "id": "HCSQHX-RxzRS"
      },
      "execution_count": 49,
      "outputs": []
    },
    {
      "cell_type": "code",
      "source": [
        "def timer(func):\n",
        "  def wrapper(*args, **kwargs):\n",
        "    start_time = time.time()\n",
        "    result = func(*args, **kwargs)\n",
        "    end_time = time.time()\n",
        "    print(f\"for {func.__name__}() to execute it took {end_time - start_time}\")\n",
        "    return result\n",
        "\n",
        "  return wrapper"
      ],
      "metadata": {
        "id": "mhtUwQ5kzENc"
      },
      "execution_count": 66,
      "outputs": []
    },
    {
      "cell_type": "code",
      "source": [
        "@timer\n",
        "def add(a, b):\n",
        "  return a+b"
      ],
      "metadata": {
        "id": "YArawd1A0j4k"
      },
      "execution_count": 67,
      "outputs": []
    },
    {
      "cell_type": "code",
      "source": [
        "@timer\n",
        "def sub(a, b):\n",
        "  time.sleep(5)\n",
        "  return a-b"
      ],
      "metadata": {
        "id": "-lqco2aG0oLS"
      },
      "execution_count": 68,
      "outputs": []
    },
    {
      "cell_type": "code",
      "source": [
        "add(10, 5)"
      ],
      "metadata": {
        "colab": {
          "base_uri": "https://localhost:8080/"
        },
        "id": "21j-hldK0vYl",
        "outputId": "454367cc-4162-4c88-c23d-8dc1a6426899"
      },
      "execution_count": 69,
      "outputs": [
        {
          "output_type": "stream",
          "name": "stdout",
          "text": [
            "for add() to execute it took 1.9073486328125e-06\n"
          ]
        },
        {
          "output_type": "execute_result",
          "data": {
            "text/plain": [
              "15"
            ]
          },
          "metadata": {},
          "execution_count": 69
        }
      ]
    },
    {
      "cell_type": "code",
      "source": [
        "sub(10, 5)"
      ],
      "metadata": {
        "colab": {
          "base_uri": "https://localhost:8080/"
        },
        "id": "-6GigJum1C6W",
        "outputId": "c07b1578-d1c9-45d0-ff1d-bd8a8d38b8f8"
      },
      "execution_count": 70,
      "outputs": [
        {
          "output_type": "stream",
          "name": "stdout",
          "text": [
            "for sub() to execute it took 5.006146669387817\n"
          ]
        },
        {
          "output_type": "execute_result",
          "data": {
            "text/plain": [
              "5"
            ]
          },
          "metadata": {},
          "execution_count": 70
        }
      ]
    },
    {
      "cell_type": "code",
      "source": [],
      "metadata": {
        "id": "7ouc5jLZ1Y1l"
      },
      "execution_count": null,
      "outputs": []
    }
  ]
}