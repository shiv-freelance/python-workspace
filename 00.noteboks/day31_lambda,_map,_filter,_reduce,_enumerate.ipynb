{
  "nbformat": 4,
  "nbformat_minor": 0,
  "metadata": {
    "colab": {
      "provenance": []
    },
    "kernelspec": {
      "name": "python3",
      "display_name": "Python 3"
    },
    "language_info": {
      "name": "python"
    }
  },
  "cells": [
    {
      "cell_type": "code",
      "source": [
        "# without enumeration\n",
        "for i in range(100, 106):\n",
        "  print(i)"
      ],
      "metadata": {
        "colab": {
          "base_uri": "https://localhost:8080/"
        },
        "id": "YHiLpvkGJccv",
        "outputId": "7c4ee01c-a7d3-4876-bf8d-f8c37c3283d5"
      },
      "execution_count": 1,
      "outputs": [
        {
          "output_type": "stream",
          "name": "stdout",
          "text": [
            "100\n",
            "101\n",
            "102\n",
            "103\n",
            "104\n",
            "105\n"
          ]
        }
      ]
    },
    {
      "cell_type": "code",
      "execution_count": 2,
      "metadata": {
        "colab": {
          "base_uri": "https://localhost:8080/"
        },
        "id": "AWC7_c2NHk-Y",
        "outputId": "8e07586e-2726-4d4d-ccc0-d59efb4503e4"
      },
      "outputs": [
        {
          "output_type": "stream",
          "name": "stdout",
          "text": [
            "100 is present in 0 position\n",
            "101 is present in 1 position\n",
            "102 is present in 2 position\n",
            "103 is present in 3 position\n",
            "104 is present in 4 position\n",
            "105 is present in 5 position\n"
          ]
        }
      ],
      "source": [
        "# enumerate\n",
        "for index, value in enumerate(range(100, 106)):\n",
        "  print(f\"{value} is present in {index} position\")"
      ]
    },
    {
      "cell_type": "code",
      "source": [
        "for index, value in enumerate(range(100, 106), start=50):\n",
        "  print(f\"{value} is present in {index} position\")"
      ],
      "metadata": {
        "colab": {
          "base_uri": "https://localhost:8080/"
        },
        "id": "4OPEBxBXKJWY",
        "outputId": "ae28d550-ab5b-4e27-87b3-505f8d55d141"
      },
      "execution_count": 3,
      "outputs": [
        {
          "output_type": "stream",
          "name": "stdout",
          "text": [
            "100 is present in 50 position\n",
            "101 is present in 51 position\n",
            "102 is present in 52 position\n",
            "103 is present in 53 position\n",
            "104 is present in 54 position\n",
            "105 is present in 55 position\n"
          ]
        }
      ]
    },
    {
      "cell_type": "code",
      "source": [
        "[1, 2, 3, 4, 1].index(1)"
      ],
      "metadata": {
        "colab": {
          "base_uri": "https://localhost:8080/"
        },
        "id": "AaUAzJ_LKW5B",
        "outputId": "99b2d0e9-3d0c-4932-c57a-f05fe34392dd"
      },
      "execution_count": 4,
      "outputs": [
        {
          "output_type": "execute_result",
          "data": {
            "text/plain": [
              "0"
            ]
          },
          "metadata": {},
          "execution_count": 4
        }
      ]
    },
    {
      "cell_type": "code",
      "source": [
        "def func_name(*args):\n",
        "  pass"
      ],
      "metadata": {
        "id": "M24_BCFMKwlp"
      },
      "execution_count": 6,
      "outputs": []
    },
    {
      "cell_type": "code",
      "source": [
        "# lambda is also called as Anonymous functions\n",
        "# anonymous - unidentified - noname\n",
        "\n",
        "# lambda arg: expression"
      ],
      "metadata": {
        "id": "v7GLb4q_HytS"
      },
      "execution_count": null,
      "outputs": []
    },
    {
      "cell_type": "code",
      "source": [
        "def add(a, b):\n",
        "  return a+b\n",
        "\n",
        "add(10, 20) # 30"
      ],
      "metadata": {
        "colab": {
          "base_uri": "https://localhost:8080/"
        },
        "id": "O9Ysv2XnLRoD",
        "outputId": "e475bd8a-909e-4b82-8083-d0a3eff1b400"
      },
      "execution_count": 7,
      "outputs": [
        {
          "output_type": "execute_result",
          "data": {
            "text/plain": [
              "30"
            ]
          },
          "metadata": {},
          "execution_count": 7
        }
      ]
    },
    {
      "cell_type": "code",
      "source": [
        "a = lambda a,b: a+b # use: improve the readability and we can write very consice code."
      ],
      "metadata": {
        "id": "LXXJYxrVLauj"
      },
      "execution_count": 8,
      "outputs": []
    },
    {
      "cell_type": "code",
      "source": [
        "a(10, 20)"
      ],
      "metadata": {
        "colab": {
          "base_uri": "https://localhost:8080/"
        },
        "id": "TPAuIO0QLkeg",
        "outputId": "a60e9bf6-fee5-4645-f94b-8b78223df205"
      },
      "execution_count": 9,
      "outputs": [
        {
          "output_type": "execute_result",
          "data": {
            "text/plain": [
              "30"
            ]
          },
          "metadata": {},
          "execution_count": 9
        }
      ]
    },
    {
      "cell_type": "code",
      "source": [
        "s = lambda *args: sum(args)"
      ],
      "metadata": {
        "id": "umanDbvpLzx5"
      },
      "execution_count": 10,
      "outputs": []
    },
    {
      "cell_type": "code",
      "source": [
        "s(10, 20, 30, 40, 50)"
      ],
      "metadata": {
        "colab": {
          "base_uri": "https://localhost:8080/"
        },
        "id": "_C9JUmb0L71W",
        "outputId": "130698c6-79f8-4815-99c3-4b96cf4e688a"
      },
      "execution_count": 11,
      "outputs": [
        {
          "output_type": "execute_result",
          "data": {
            "text/plain": [
              "150"
            ]
          },
          "metadata": {},
          "execution_count": 11
        }
      ]
    },
    {
      "cell_type": "code",
      "source": [
        "# map - in-built python function, using map we can apply some functionality\n",
        "# map(function, sequence) # returns a map object"
      ],
      "metadata": {
        "id": "NcbAMHAzH0Ql"
      },
      "execution_count": null,
      "outputs": []
    },
    {
      "cell_type": "code",
      "source": [
        "nums = [\"10\", \"5\", \"12\", '20']"
      ],
      "metadata": {
        "id": "U_Xu_XDcMW3W"
      },
      "execution_count": 13,
      "outputs": []
    },
    {
      "cell_type": "code",
      "source": [
        "result = []\n",
        "for num in nums:\n",
        "  result.append(int(num))\n",
        "\n",
        "result"
      ],
      "metadata": {
        "colab": {
          "base_uri": "https://localhost:8080/"
        },
        "id": "H79VKmveMexV",
        "outputId": "30a73900-ead4-45b4-a056-93887e223db3"
      },
      "execution_count": 14,
      "outputs": [
        {
          "output_type": "execute_result",
          "data": {
            "text/plain": [
              "[10, 5, 12, 20]"
            ]
          },
          "metadata": {},
          "execution_count": 14
        }
      ]
    },
    {
      "cell_type": "code",
      "source": [
        "nums = list(map(int, nums))\n",
        "nums"
      ],
      "metadata": {
        "colab": {
          "base_uri": "https://localhost:8080/"
        },
        "id": "yLMtYnziMtI0",
        "outputId": "a0656a53-6ac6-47a1-8966-feaa223f76f9"
      },
      "execution_count": 17,
      "outputs": [
        {
          "output_type": "execute_result",
          "data": {
            "text/plain": [
              "[10, 5, 12, 20]"
            ]
          },
          "metadata": {},
          "execution_count": 17
        }
      ]
    },
    {
      "cell_type": "code",
      "source": [
        "list(map(lambda num: num+2, nums))"
      ],
      "metadata": {
        "colab": {
          "base_uri": "https://localhost:8080/"
        },
        "id": "AAKfT3Q_NLuM",
        "outputId": "9a2462a3-9a28-47d6-c99e-4e0cfbbab775"
      },
      "execution_count": 18,
      "outputs": [
        {
          "output_type": "execute_result",
          "data": {
            "text/plain": [
              "[12, 7, 14, 22]"
            ]
          },
          "metadata": {},
          "execution_count": 18
        }
      ]
    },
    {
      "cell_type": "code",
      "source": [],
      "metadata": {
        "id": "pzcSRWA7NgBH"
      },
      "execution_count": null,
      "outputs": []
    },
    {
      "cell_type": "code",
      "source": [
        "# filter - using filter() you can filter the records\n",
        "# filter(function, sequence)\n",
        "numbers = list(range(1, 20))"
      ],
      "metadata": {
        "id": "0qg0dz83H1UN"
      },
      "execution_count": 20,
      "outputs": []
    },
    {
      "cell_type": "code",
      "source": [
        "even_nums = list(filter(lambda x: x%2 == 0, numbers))\n",
        "even_nums"
      ],
      "metadata": {
        "colab": {
          "base_uri": "https://localhost:8080/"
        },
        "id": "CRzGLQFDNvXw",
        "outputId": "c92490fc-5756-408c-fef2-8bef363e280c"
      },
      "execution_count": 22,
      "outputs": [
        {
          "output_type": "execute_result",
          "data": {
            "text/plain": [
              "[2, 4, 6, 8, 10, 12, 14, 16, 18]"
            ]
          },
          "metadata": {},
          "execution_count": 22
        }
      ]
    },
    {
      "cell_type": "code",
      "source": [
        "odd_nums = list(filter(lambda x: x%2 != 0, numbers))\n",
        "odd_nums"
      ],
      "metadata": {
        "colab": {
          "base_uri": "https://localhost:8080/"
        },
        "id": "aHizakWpOOSX",
        "outputId": "a1b0841a-85c4-4307-a2d0-f8232aff19e7"
      },
      "execution_count": 23,
      "outputs": [
        {
          "output_type": "execute_result",
          "data": {
            "text/plain": [
              "[1, 3, 5, 7, 9, 11, 13, 15, 17, 19]"
            ]
          },
          "metadata": {},
          "execution_count": 23
        }
      ]
    },
    {
      "cell_type": "code",
      "source": [],
      "metadata": {
        "id": "SZEGY21vOc_l"
      },
      "execution_count": null,
      "outputs": []
    },
    {
      "cell_type": "code",
      "source": [
        "# reduce - you can reduce a sequence elements to a single element i.e reduce()\n",
        "from functools import reduce\n",
        "\n",
        "# reduce(function, sequence)"
      ],
      "metadata": {
        "id": "97EHLGbzH2TS"
      },
      "execution_count": 26,
      "outputs": []
    },
    {
      "cell_type": "code",
      "source": [
        "sum(numbers)"
      ],
      "metadata": {
        "colab": {
          "base_uri": "https://localhost:8080/"
        },
        "id": "tFXBT64CPGNc",
        "outputId": "c06342ba-782a-461c-d82f-9f4b0d4fe07f"
      },
      "execution_count": 24,
      "outputs": [
        {
          "output_type": "execute_result",
          "data": {
            "text/plain": [
              "190"
            ]
          },
          "metadata": {},
          "execution_count": 24
        }
      ]
    },
    {
      "cell_type": "code",
      "source": [
        "reduce(lambda a, b: a+b, numbers)"
      ],
      "metadata": {
        "colab": {
          "base_uri": "https://localhost:8080/"
        },
        "id": "eHAeCLEAO4pW",
        "outputId": "934785f0-f921-45cc-9969-680ddc32256f"
      },
      "execution_count": 27,
      "outputs": [
        {
          "output_type": "execute_result",
          "data": {
            "text/plain": [
              "190"
            ]
          },
          "metadata": {},
          "execution_count": 27
        }
      ]
    },
    {
      "cell_type": "code",
      "source": [
        "reduce(lambda a, b: a*b, numbers)"
      ],
      "metadata": {
        "colab": {
          "base_uri": "https://localhost:8080/"
        },
        "id": "4CbhRsKqPJe3",
        "outputId": "59d8e62e-e777-4012-aaba-9ca53224cac2"
      },
      "execution_count": 28,
      "outputs": [
        {
          "output_type": "execute_result",
          "data": {
            "text/plain": [
              "121645100408832000"
            ]
          },
          "metadata": {},
          "execution_count": 28
        }
      ]
    },
    {
      "cell_type": "code",
      "source": [],
      "metadata": {
        "id": "p7GEkob6PRKZ"
      },
      "execution_count": null,
      "outputs": []
    }
  ]
}