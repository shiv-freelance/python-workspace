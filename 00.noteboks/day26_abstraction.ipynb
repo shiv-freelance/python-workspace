{
  "nbformat": 4,
  "nbformat_minor": 0,
  "metadata": {
    "colab": {
      "provenance": []
    },
    "kernelspec": {
      "name": "python3",
      "display_name": "Python 3"
    },
    "language_info": {
      "name": "python"
    }
  },
  "cells": [
    {
      "cell_type": "code",
      "source": [
        "# abstraction:\n",
        "#       is the behaviour of hiding the implementation (will not expose)"
      ],
      "metadata": {
        "id": "I8slQ9T9lgrq"
      },
      "execution_count": null,
      "outputs": []
    },
    {
      "cell_type": "markdown",
      "source": [
        "1. inheritance -- super class, sub class\n",
        "2. encapsulation -- wrapping data members (setter/getter) - providing security\n",
        "3. polymorphism -- overloading, overriding\n",
        "4. abstraction -- hiding implementation."
      ],
      "metadata": {
        "id": "7abldojUoRTU"
      }
    },
    {
      "cell_type": "code",
      "source": [
        "# abstract method, abstract class\n",
        "\n",
        "class Test:\n",
        "  def m1():\n",
        "    pass"
      ],
      "metadata": {
        "id": "9k1QpUR3ozjl"
      },
      "execution_count": 13,
      "outputs": []
    },
    {
      "cell_type": "code",
      "source": [
        "t = Test()"
      ],
      "metadata": {
        "id": "DyjllpuIpAJD"
      },
      "execution_count": 14,
      "outputs": []
    },
    {
      "cell_type": "code",
      "source": [
        "class SubTest(Test):\n",
        "  pass"
      ],
      "metadata": {
        "id": "jdNyMzk8pBmy"
      },
      "execution_count": 15,
      "outputs": []
    },
    {
      "cell_type": "code",
      "source": [
        "sub = SubTest()"
      ],
      "metadata": {
        "id": "XDhNS-0CpGMv"
      },
      "execution_count": 16,
      "outputs": []
    },
    {
      "cell_type": "code",
      "source": [
        "from abc import ABC\n",
        "\n",
        "class Test(ABC):\n",
        "\n",
        "  def normal_test(self):\n",
        "    pass\n",
        "\n",
        "  def abstract_m1(self):\n",
        "    pass"
      ],
      "metadata": {
        "id": "v4UZXWiNpIsL"
      },
      "execution_count": 17,
      "outputs": []
    },
    {
      "cell_type": "code",
      "source": [
        "t = Test()"
      ],
      "metadata": {
        "id": "3MW935Q1p2zg"
      },
      "execution_count": 18,
      "outputs": []
    },
    {
      "cell_type": "code",
      "source": [
        "t.abstract_m1()"
      ],
      "metadata": {
        "id": "B6LJRnCFp4QS"
      },
      "execution_count": 19,
      "outputs": []
    },
    {
      "cell_type": "code",
      "source": [
        "t.normal_test()"
      ],
      "metadata": {
        "id": "u1NDF78up6Qp"
      },
      "execution_count": 20,
      "outputs": []
    },
    {
      "cell_type": "code",
      "source": [
        "# abstract method --> unfinished, inprogress, ongoing (not completley done)"
      ],
      "metadata": {
        "id": "wQMR8dgurW9F"
      },
      "execution_count": null,
      "outputs": []
    },
    {
      "cell_type": "code",
      "source": [
        "# abstract method creation\n",
        "from abc import ABC, abstractmethod\n",
        "\n",
        "class Test(ABC):\n",
        "\n",
        "  def normal_test(self):\n",
        "    pass\n",
        "\n",
        "  @abstractmethod\n",
        "  def abstract_m1(self):\n",
        "    pass"
      ],
      "metadata": {
        "id": "zAT54a6wp8Gf"
      },
      "execution_count": 28,
      "outputs": []
    },
    {
      "cell_type": "code",
      "source": [
        "t = Test() # in a class if you have a abstractmethod you can't create an object"
      ],
      "metadata": {
        "colab": {
          "base_uri": "https://localhost:8080/",
          "height": 141
        },
        "id": "tUdORZ28qLUC",
        "outputId": "d4e8906e-c113-45b9-a177-7df26a88c7f6"
      },
      "execution_count": 29,
      "outputs": [
        {
          "output_type": "error",
          "ename": "TypeError",
          "evalue": "Can't instantiate abstract class Test with abstract method abstract_m1",
          "traceback": [
            "\u001b[0;31m---------------------------------------------------------------------------\u001b[0m",
            "\u001b[0;31mTypeError\u001b[0m                                 Traceback (most recent call last)",
            "\u001b[0;32m<ipython-input-29-fecbf383c762>\u001b[0m in \u001b[0;36m<cell line: 1>\u001b[0;34m()\u001b[0m\n\u001b[0;32m----> 1\u001b[0;31m \u001b[0mt\u001b[0m \u001b[0;34m=\u001b[0m \u001b[0mTest\u001b[0m\u001b[0;34m(\u001b[0m\u001b[0;34m)\u001b[0m \u001b[0;31m# in a class if you have a abstractmethod you can't create an object\u001b[0m\u001b[0;34m\u001b[0m\u001b[0;34m\u001b[0m\u001b[0m\n\u001b[0m",
            "\u001b[0;31mTypeError\u001b[0m: Can't instantiate abstract class Test with abstract method abstract_m1"
          ]
        }
      ]
    },
    {
      "cell_type": "code",
      "source": [
        "from abc import ABC # abstract base class\n",
        "\n",
        "class A(ABC):\n",
        "  def __init__(self):\n",
        "    print('a class constructor')\n",
        "\n",
        "  def test_a(self):\n",
        "    print('test a method')"
      ],
      "metadata": {
        "id": "Dw9bQEmtqNWt"
      },
      "execution_count": 24,
      "outputs": []
    },
    {
      "cell_type": "code",
      "source": [
        "a = A() # if a class doesn't have any abstractmethods you can create an object."
      ],
      "metadata": {
        "colab": {
          "base_uri": "https://localhost:8080/"
        },
        "id": "AKUCHBPfqg50",
        "outputId": "27dd0f9e-09c1-4e83-d2e3-54208754bddc"
      },
      "execution_count": 25,
      "outputs": [
        {
          "output_type": "stream",
          "name": "stdout",
          "text": [
            "a class constructor\n"
          ]
        }
      ]
    },
    {
      "cell_type": "code",
      "source": [
        "from abc import ABC # abstract base class\n",
        "\n",
        "class A(ABC):\n",
        "  def __init__(self):\n",
        "    print('a class constructor')\n",
        "  @abstractmethod\n",
        "  def test_a(self):\n",
        "    print('test a method')"
      ],
      "metadata": {
        "id": "mgLtrDQBqp6r"
      },
      "execution_count": 30,
      "outputs": []
    },
    {
      "cell_type": "code",
      "source": [
        "a = A()"
      ],
      "metadata": {
        "colab": {
          "base_uri": "https://localhost:8080/",
          "height": 141
        },
        "id": "EGAU3LLdsHxj",
        "outputId": "6735b223-595c-4609-eb44-b88f2e71bc17"
      },
      "execution_count": 31,
      "outputs": [
        {
          "output_type": "error",
          "ename": "TypeError",
          "evalue": "Can't instantiate abstract class A with abstract method test_a",
          "traceback": [
            "\u001b[0;31m---------------------------------------------------------------------------\u001b[0m",
            "\u001b[0;31mTypeError\u001b[0m                                 Traceback (most recent call last)",
            "\u001b[0;32m<ipython-input-31-7f181d8f00b8>\u001b[0m in \u001b[0;36m<cell line: 1>\u001b[0;34m()\u001b[0m\n\u001b[0;32m----> 1\u001b[0;31m \u001b[0ma\u001b[0m \u001b[0;34m=\u001b[0m \u001b[0mA\u001b[0m\u001b[0;34m(\u001b[0m\u001b[0;34m)\u001b[0m\u001b[0;34m\u001b[0m\u001b[0;34m\u001b[0m\u001b[0m\n\u001b[0m",
            "\u001b[0;31mTypeError\u001b[0m: Can't instantiate abstract class A with abstract method test_a"
          ]
        }
      ]
    },
    {
      "cell_type": "code",
      "source": [
        "from abc import ABC, abstractmethod\n",
        "\n",
        "class A: # if you don't inherit ABC class, you will loose abstract behaviour\n",
        "  @abstractmethod\n",
        "  def a_test(self):\n",
        "    pass"
      ],
      "metadata": {
        "id": "6MxvraJCsIul"
      },
      "execution_count": 32,
      "outputs": []
    },
    {
      "cell_type": "code",
      "source": [
        "a = A()"
      ],
      "metadata": {
        "id": "zVYHoXU0sdy7"
      },
      "execution_count": 33,
      "outputs": []
    },
    {
      "cell_type": "code",
      "source": [
        "from abc import ABC, abstractmethod\n",
        "\n",
        "class A(ABC): # if you don't inherit ABC class, you will loose abstract behaviour\n",
        "  @abstractmethod\n",
        "  def a_test(self):\n",
        "    pass"
      ],
      "metadata": {
        "id": "EOPWd28PsxUN"
      },
      "execution_count": 34,
      "outputs": []
    },
    {
      "cell_type": "code",
      "source": [
        "a = A()"
      ],
      "metadata": {
        "colab": {
          "base_uri": "https://localhost:8080/",
          "height": 141
        },
        "id": "LgI3eLSTtEpa",
        "outputId": "78f11455-1ac8-4918-b337-b37311e57f76"
      },
      "execution_count": 35,
      "outputs": [
        {
          "output_type": "error",
          "ename": "TypeError",
          "evalue": "Can't instantiate abstract class A with abstract method a_test",
          "traceback": [
            "\u001b[0;31m---------------------------------------------------------------------------\u001b[0m",
            "\u001b[0;31mTypeError\u001b[0m                                 Traceback (most recent call last)",
            "\u001b[0;32m<ipython-input-35-7f181d8f00b8>\u001b[0m in \u001b[0;36m<cell line: 1>\u001b[0;34m()\u001b[0m\n\u001b[0;32m----> 1\u001b[0;31m \u001b[0ma\u001b[0m \u001b[0;34m=\u001b[0m \u001b[0mA\u001b[0m\u001b[0;34m(\u001b[0m\u001b[0;34m)\u001b[0m\u001b[0;34m\u001b[0m\u001b[0;34m\u001b[0m\u001b[0m\n\u001b[0m",
            "\u001b[0;31mTypeError\u001b[0m: Can't instantiate abstract class A with abstract method a_test"
          ]
        }
      ]
    },
    {
      "cell_type": "code",
      "source": [
        "from abc import ABC, abstractmethod\n",
        "\n",
        "class A(ABC): # once you inherit ABC class, A class became abstract class (you can't do object intialization)\n",
        "  @abstractmethod\n",
        "  def a_test(self):\n",
        "    pass\n",
        "\n",
        "class B(A): # A class inherited, you will also become Abstract class\n",
        "  pass\n",
        "\n",
        "# ABC --> A (abstract class) --> B"
      ],
      "metadata": {
        "id": "T-NerjDItFlo"
      },
      "execution_count": 36,
      "outputs": []
    },
    {
      "cell_type": "code",
      "source": [
        "a = A()"
      ],
      "metadata": {
        "colab": {
          "base_uri": "https://localhost:8080/",
          "height": 141
        },
        "id": "peg5eHcht-V_",
        "outputId": "fcb59c46-8c98-437e-e3a9-89a8388ef0de"
      },
      "execution_count": 38,
      "outputs": [
        {
          "output_type": "error",
          "ename": "TypeError",
          "evalue": "Can't instantiate abstract class A with abstract method a_test",
          "traceback": [
            "\u001b[0;31m---------------------------------------------------------------------------\u001b[0m",
            "\u001b[0;31mTypeError\u001b[0m                                 Traceback (most recent call last)",
            "\u001b[0;32m<ipython-input-38-7f181d8f00b8>\u001b[0m in \u001b[0;36m<cell line: 1>\u001b[0;34m()\u001b[0m\n\u001b[0;32m----> 1\u001b[0;31m \u001b[0ma\u001b[0m \u001b[0;34m=\u001b[0m \u001b[0mA\u001b[0m\u001b[0;34m(\u001b[0m\u001b[0;34m)\u001b[0m\u001b[0;34m\u001b[0m\u001b[0;34m\u001b[0m\u001b[0m\n\u001b[0m",
            "\u001b[0;31mTypeError\u001b[0m: Can't instantiate abstract class A with abstract method a_test"
          ]
        }
      ]
    },
    {
      "cell_type": "code",
      "source": [
        "b = B()"
      ],
      "metadata": {
        "colab": {
          "base_uri": "https://localhost:8080/",
          "height": 141
        },
        "id": "Q-rtHIGdt1hU",
        "outputId": "97b36a31-bd58-4469-e5cb-0ef26d98d328"
      },
      "execution_count": 37,
      "outputs": [
        {
          "output_type": "error",
          "ename": "TypeError",
          "evalue": "Can't instantiate abstract class B with abstract method a_test",
          "traceback": [
            "\u001b[0;31m---------------------------------------------------------------------------\u001b[0m",
            "\u001b[0;31mTypeError\u001b[0m                                 Traceback (most recent call last)",
            "\u001b[0;32m<ipython-input-37-bb7a6e918aa7>\u001b[0m in \u001b[0;36m<cell line: 1>\u001b[0;34m()\u001b[0m\n\u001b[0;32m----> 1\u001b[0;31m \u001b[0mb\u001b[0m \u001b[0;34m=\u001b[0m \u001b[0mB\u001b[0m\u001b[0;34m(\u001b[0m\u001b[0;34m)\u001b[0m\u001b[0;34m\u001b[0m\u001b[0;34m\u001b[0m\u001b[0m\n\u001b[0m",
            "\u001b[0;31mTypeError\u001b[0m: Can't instantiate abstract class B with abstract method a_test"
          ]
        }
      ]
    },
    {
      "cell_type": "code",
      "source": [
        "from abc import ABC, abstractmethod\n",
        "\n",
        "class A(ABC):\n",
        "  @abstractmethod\n",
        "  def a_test(self):\n",
        "    pass\n",
        "\n",
        "class B(A):\n",
        "  def a_test(self):\n",
        "    print(\"b class a_test method\")"
      ],
      "metadata": {
        "id": "ECz82tB5t3eq"
      },
      "execution_count": 39,
      "outputs": []
    },
    {
      "cell_type": "code",
      "source": [
        "b = B()"
      ],
      "metadata": {
        "id": "-RBzR5QsuuCR"
      },
      "execution_count": 40,
      "outputs": []
    },
    {
      "cell_type": "code",
      "source": [
        "b.a_test()"
      ],
      "metadata": {
        "colab": {
          "base_uri": "https://localhost:8080/"
        },
        "id": "HjBCPnOluwD4",
        "outputId": "cf99bef6-cb16-4b6e-8301-bb11fb6f24f2"
      },
      "execution_count": 41,
      "outputs": [
        {
          "output_type": "stream",
          "name": "stdout",
          "text": [
            "b class a_test method\n"
          ]
        }
      ]
    },
    {
      "cell_type": "code",
      "source": [
        "class A:\n",
        "  @staticmethod\n",
        "  def a_static():\n",
        "    print(\"a static method\")\n",
        "\n",
        "  @classmethod\n",
        "  def a_class(cls):\n",
        "    print('class method')"
      ],
      "metadata": {
        "id": "zdgMuA9wu_yR"
      },
      "execution_count": 42,
      "outputs": []
    },
    {
      "cell_type": "code",
      "source": [
        "A.a_static()"
      ],
      "metadata": {
        "colab": {
          "base_uri": "https://localhost:8080/"
        },
        "id": "Oo0HpuEbwm7K",
        "outputId": "d9ff4ea4-f1f3-40b5-c54b-6ee369e83ed7"
      },
      "execution_count": 43,
      "outputs": [
        {
          "output_type": "stream",
          "name": "stdout",
          "text": [
            "a static method\n"
          ]
        }
      ]
    },
    {
      "cell_type": "code",
      "source": [
        "A.a_class()"
      ],
      "metadata": {
        "colab": {
          "base_uri": "https://localhost:8080/"
        },
        "id": "NeFgyqXbwp01",
        "outputId": "b1728259-c241-45b7-eaf0-d154536e01e4"
      },
      "execution_count": 44,
      "outputs": [
        {
          "output_type": "stream",
          "name": "stdout",
          "text": [
            "class method\n"
          ]
        }
      ]
    },
    {
      "cell_type": "code",
      "source": [
        "class A(ABC):\n",
        "  @staticmethod\n",
        "  def a_static():\n",
        "    print(\"a static method\")\n",
        "\n",
        "  @classmethod\n",
        "  def a_class(cls):\n",
        "    print('class method')"
      ],
      "metadata": {
        "id": "G44rwjmNwrq0"
      },
      "execution_count": 45,
      "outputs": []
    },
    {
      "cell_type": "code",
      "source": [
        "A.a_class()"
      ],
      "metadata": {
        "colab": {
          "base_uri": "https://localhost:8080/"
        },
        "id": "h5zuuEG3wwiQ",
        "outputId": "3278ff60-a81c-4785-b7d3-0ac1316328b0"
      },
      "execution_count": 46,
      "outputs": [
        {
          "output_type": "stream",
          "name": "stdout",
          "text": [
            "class method\n"
          ]
        }
      ]
    },
    {
      "cell_type": "code",
      "source": [
        "A.a_static()"
      ],
      "metadata": {
        "colab": {
          "base_uri": "https://localhost:8080/"
        },
        "id": "SXDrg2xJwzTB",
        "outputId": "1d7b3dc8-1bf1-4ca1-c0b1-9cf5d5da937e"
      },
      "execution_count": 47,
      "outputs": [
        {
          "output_type": "stream",
          "name": "stdout",
          "text": [
            "a static method\n"
          ]
        }
      ]
    },
    {
      "cell_type": "code",
      "source": [
        "class A(ABC):\n",
        "  @staticmethod\n",
        "  def a_static():\n",
        "    print(\"a static method\")\n",
        "\n",
        "  @classmethod\n",
        "  def a_class(cls):\n",
        "    print('class method')\n",
        "\n",
        "  @abstractmethod\n",
        "  def a_abstract(slef):\n",
        "    pass"
      ],
      "metadata": {
        "id": "eymLfjoVw0l5"
      },
      "execution_count": 48,
      "outputs": []
    },
    {
      "cell_type": "code",
      "source": [
        "A.a_static()"
      ],
      "metadata": {
        "colab": {
          "base_uri": "https://localhost:8080/"
        },
        "id": "h4MS7As-w7dH",
        "outputId": "614a7ee7-cde1-4a93-cac6-6bf3bd6cd40a"
      },
      "execution_count": 49,
      "outputs": [
        {
          "output_type": "stream",
          "name": "stdout",
          "text": [
            "a static method\n"
          ]
        }
      ]
    },
    {
      "cell_type": "code",
      "source": [
        "A.a_class()"
      ],
      "metadata": {
        "colab": {
          "base_uri": "https://localhost:8080/"
        },
        "id": "aSXwqVwbxAm2",
        "outputId": "3565483b-02e5-49ec-c3ac-23d317c94c72"
      },
      "execution_count": 50,
      "outputs": [
        {
          "output_type": "stream",
          "name": "stdout",
          "text": [
            "class method\n"
          ]
        }
      ]
    },
    {
      "cell_type": "code",
      "source": [],
      "metadata": {
        "id": "6Ac4HcJLxCKb"
      },
      "execution_count": null,
      "outputs": []
    }
  ]
}