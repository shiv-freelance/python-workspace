{
  "nbformat": 4,
  "nbformat_minor": 0,
  "metadata": {
    "colab": {
      "provenance": []
    },
    "kernelspec": {
      "name": "python3",
      "display_name": "Python 3"
    },
    "language_info": {
      "name": "python"
    }
  },
  "cells": [
    {
      "cell_type": "code",
      "execution_count": 1,
      "metadata": {
        "id": "YrgtExocSK4L"
      },
      "outputs": [],
      "source": [
        "def divide(a, b):\n",
        "  return a/b"
      ]
    },
    {
      "cell_type": "code",
      "source": [
        "divide(10, 2)"
      ],
      "metadata": {
        "colab": {
          "base_uri": "https://localhost:8080/"
        },
        "id": "icTNN3JP5xIe",
        "outputId": "a324e395-6957-413f-cac3-5f343bbd467c"
      },
      "execution_count": 2,
      "outputs": [
        {
          "output_type": "execute_result",
          "data": {
            "text/plain": [
              "5.0"
            ]
          },
          "metadata": {},
          "execution_count": 2
        }
      ]
    },
    {
      "cell_type": "code",
      "source": [
        "divide(10, 0)"
      ],
      "metadata": {
        "colab": {
          "base_uri": "https://localhost:8080/",
          "height": 211
        },
        "id": "CFa_0qOQ5zvl",
        "outputId": "db0358dd-dfdf-44db-896a-46de2d3fa769"
      },
      "execution_count": 3,
      "outputs": [
        {
          "output_type": "error",
          "ename": "ZeroDivisionError",
          "evalue": "division by zero",
          "traceback": [
            "\u001b[0;31m---------------------------------------------------------------------------\u001b[0m",
            "\u001b[0;31mZeroDivisionError\u001b[0m                         Traceback (most recent call last)",
            "\u001b[0;32m<ipython-input-3-ccc290a9b5cb>\u001b[0m in \u001b[0;36m<cell line: 1>\u001b[0;34m()\u001b[0m\n\u001b[0;32m----> 1\u001b[0;31m \u001b[0mdivide\u001b[0m\u001b[0;34m(\u001b[0m\u001b[0;36m10\u001b[0m\u001b[0;34m,\u001b[0m \u001b[0;36m0\u001b[0m\u001b[0;34m)\u001b[0m\u001b[0;34m\u001b[0m\u001b[0;34m\u001b[0m\u001b[0m\n\u001b[0m",
            "\u001b[0;32m<ipython-input-1-430d9d53ec11>\u001b[0m in \u001b[0;36mdivide\u001b[0;34m(a, b)\u001b[0m\n\u001b[1;32m      1\u001b[0m \u001b[0;32mdef\u001b[0m \u001b[0mdivide\u001b[0m\u001b[0;34m(\u001b[0m\u001b[0ma\u001b[0m\u001b[0;34m,\u001b[0m \u001b[0mb\u001b[0m\u001b[0;34m)\u001b[0m\u001b[0;34m:\u001b[0m\u001b[0;34m\u001b[0m\u001b[0;34m\u001b[0m\u001b[0m\n\u001b[0;32m----> 2\u001b[0;31m   \u001b[0;32mreturn\u001b[0m \u001b[0ma\u001b[0m\u001b[0;34m/\u001b[0m\u001b[0mb\u001b[0m\u001b[0;34m\u001b[0m\u001b[0;34m\u001b[0m\u001b[0m\n\u001b[0m",
            "\u001b[0;31mZeroDivisionError\u001b[0m: division by zero"
          ]
        }
      ]
    },
    {
      "cell_type": "code",
      "source": [
        "divide(\"10\", 5)"
      ],
      "metadata": {
        "colab": {
          "base_uri": "https://localhost:8080/",
          "height": 211
        },
        "id": "hrC-o1p-524g",
        "outputId": "ac2611a7-f0fe-4977-ae0f-1c5b2cb021bc"
      },
      "execution_count": 4,
      "outputs": [
        {
          "output_type": "error",
          "ename": "TypeError",
          "evalue": "unsupported operand type(s) for /: 'str' and 'int'",
          "traceback": [
            "\u001b[0;31m---------------------------------------------------------------------------\u001b[0m",
            "\u001b[0;31mTypeError\u001b[0m                                 Traceback (most recent call last)",
            "\u001b[0;32m<ipython-input-4-9dd1c4932f10>\u001b[0m in \u001b[0;36m<cell line: 1>\u001b[0;34m()\u001b[0m\n\u001b[0;32m----> 1\u001b[0;31m \u001b[0mdivide\u001b[0m\u001b[0;34m(\u001b[0m\u001b[0;34m\"10\"\u001b[0m\u001b[0;34m,\u001b[0m \u001b[0;36m5\u001b[0m\u001b[0;34m)\u001b[0m\u001b[0;34m\u001b[0m\u001b[0;34m\u001b[0m\u001b[0m\n\u001b[0m",
            "\u001b[0;32m<ipython-input-1-430d9d53ec11>\u001b[0m in \u001b[0;36mdivide\u001b[0;34m(a, b)\u001b[0m\n\u001b[1;32m      1\u001b[0m \u001b[0;32mdef\u001b[0m \u001b[0mdivide\u001b[0m\u001b[0;34m(\u001b[0m\u001b[0ma\u001b[0m\u001b[0;34m,\u001b[0m \u001b[0mb\u001b[0m\u001b[0;34m)\u001b[0m\u001b[0;34m:\u001b[0m\u001b[0;34m\u001b[0m\u001b[0;34m\u001b[0m\u001b[0m\n\u001b[0;32m----> 2\u001b[0;31m   \u001b[0;32mreturn\u001b[0m \u001b[0ma\u001b[0m\u001b[0;34m/\u001b[0m\u001b[0mb\u001b[0m\u001b[0;34m\u001b[0m\u001b[0;34m\u001b[0m\u001b[0m\n\u001b[0m",
            "\u001b[0;31mTypeError\u001b[0m: unsupported operand type(s) for /: 'str' and 'int'"
          ]
        }
      ]
    },
    {
      "cell_type": "code",
      "source": [
        "def divide(a, b):\n",
        "  try:\n",
        "    return a/b\n",
        "  except (ZeroDivisionError, TypeError):\n",
        "    print('got exceptin while dividing')"
      ],
      "metadata": {
        "id": "H6D_MTG56Cv9"
      },
      "execution_count": 5,
      "outputs": []
    },
    {
      "cell_type": "code",
      "source": [
        "divide(10, 0)"
      ],
      "metadata": {
        "colab": {
          "base_uri": "https://localhost:8080/"
        },
        "id": "h2kpG3dp6Qed",
        "outputId": "d128928f-9e47-4181-b8f2-7d55e3d0371e"
      },
      "execution_count": 6,
      "outputs": [
        {
          "output_type": "stream",
          "name": "stdout",
          "text": [
            "got exceptin while dividing\n"
          ]
        }
      ]
    },
    {
      "cell_type": "code",
      "source": [
        "divide(\"10\", 5)"
      ],
      "metadata": {
        "colab": {
          "base_uri": "https://localhost:8080/"
        },
        "id": "zEK4R0Rp6cNk",
        "outputId": "d46abfe3-2a6d-4d97-e51a-482060545341"
      },
      "execution_count": 7,
      "outputs": [
        {
          "output_type": "stream",
          "name": "stdout",
          "text": [
            "got exceptin while dividing\n"
          ]
        }
      ]
    },
    {
      "cell_type": "code",
      "source": [
        "# except block hierarchy\n",
        "try:\n",
        "  int(\"839gu\")\n",
        "except:\n",
        "  print('got exception')"
      ],
      "metadata": {
        "colab": {
          "base_uri": "https://localhost:8080/"
        },
        "id": "ZH9UmumTTHcQ",
        "outputId": "5c221306-ba1d-4446-b9f8-6e25bcd399a2"
      },
      "execution_count": 10,
      "outputs": [
        {
          "output_type": "stream",
          "name": "stdout",
          "text": [
            "got exception\n"
          ]
        }
      ]
    },
    {
      "cell_type": "code",
      "source": [
        "try:\n",
        "  5/0\n",
        "except ZeroDivisionError:\n",
        "  print('zero division except block')\n",
        "except:\n",
        "  print('default except block')"
      ],
      "metadata": {
        "colab": {
          "base_uri": "https://localhost:8080/"
        },
        "id": "2m-7cTBY6680",
        "outputId": "711d93b4-eaf9-430e-d40d-0404a0d74a09"
      },
      "execution_count": 11,
      "outputs": [
        {
          "output_type": "stream",
          "name": "stdout",
          "text": [
            "zero division except block\n"
          ]
        }
      ]
    },
    {
      "cell_type": "code",
      "source": [
        "# default except block\n",
        "try:\n",
        "  5/0\n",
        "except:\n",
        "  print('default except block')\n",
        "except ZeroDivisionError:\n",
        "  print('zero division except block')\n"
      ],
      "metadata": {
        "colab": {
          "base_uri": "https://localhost:8080/",
          "height": 106
        },
        "id": "PUgxWYKrTlLE",
        "outputId": "e289549b-757b-41b3-8af4-a0b04cc0a4e8"
      },
      "execution_count": 12,
      "outputs": [
        {
          "output_type": "error",
          "ename": "SyntaxError",
          "evalue": "default 'except:' must be last (<ipython-input-12-a11ead25853a>, line 4)",
          "traceback": [
            "\u001b[0;36m  File \u001b[0;32m\"<ipython-input-12-a11ead25853a>\"\u001b[0;36m, line \u001b[0;32m4\u001b[0m\n\u001b[0;31m    except:\u001b[0m\n\u001b[0m    ^\u001b[0m\n\u001b[0;31mSyntaxError\u001b[0m\u001b[0;31m:\u001b[0m default 'except:' must be last\n"
          ]
        }
      ]
    },
    {
      "cell_type": "code",
      "source": [
        "# else block\n",
        "try:\n",
        "  pass\n",
        "except:\n",
        "  pass\n",
        "else: # else block will execute if there is no exceptions occured in try block.\n",
        "  pass"
      ],
      "metadata": {
        "id": "iFa64DVDTwW4"
      },
      "execution_count": null,
      "outputs": []
    },
    {
      "cell_type": "code",
      "source": [
        "try:\n",
        "  print('try')\n",
        "except:\n",
        "  print('except')\n",
        "else:\n",
        "  print('else')"
      ],
      "metadata": {
        "colab": {
          "base_uri": "https://localhost:8080/"
        },
        "id": "Ir6oCavH8Bo_",
        "outputId": "ce6667bc-424d-4769-d02d-a9e820c185d6"
      },
      "execution_count": 13,
      "outputs": [
        {
          "output_type": "stream",
          "name": "stdout",
          "text": [
            "try\n",
            "else\n"
          ]
        }
      ]
    },
    {
      "cell_type": "code",
      "source": [
        "try:\n",
        "  int(\"eor\")\n",
        "except:\n",
        "  print('except block')\n",
        "else:\n",
        "  print('else')"
      ],
      "metadata": {
        "colab": {
          "base_uri": "https://localhost:8080/"
        },
        "id": "fA-lg3Pw8SRt",
        "outputId": "7e792dba-62b8-4e36-8846-f05a53fb4c45"
      },
      "execution_count": 14,
      "outputs": [
        {
          "output_type": "stream",
          "name": "stdout",
          "text": [
            "except block\n"
          ]
        }
      ]
    },
    {
      "cell_type": "code",
      "source": [
        "try:\n",
        "  int(\"768\")\n",
        "except:\n",
        "  print('except block')\n",
        "else:\n",
        "  print('else')"
      ],
      "metadata": {
        "colab": {
          "base_uri": "https://localhost:8080/"
        },
        "id": "crgcetYF8mu5",
        "outputId": "2f8adc7d-d59b-4f20-f65e-231862f4137f"
      },
      "execution_count": 15,
      "outputs": [
        {
          "output_type": "stream",
          "name": "stdout",
          "text": [
            "else\n"
          ]
        }
      ]
    },
    {
      "cell_type": "code",
      "source": [
        "# finally block\n",
        "try:\n",
        "  pass\n",
        "except:\n",
        "  pass\n",
        "else:\n",
        "  pass\n",
        "finally:\n",
        "  pass"
      ],
      "metadata": {
        "id": "4dMwOyqxTyQI"
      },
      "execution_count": null,
      "outputs": []
    },
    {
      "cell_type": "code",
      "source": [
        "try:\n",
        "  print(\"Try\")\n",
        "except: # no exception in try-except will not execute\n",
        "  print('except')\n",
        "else: # no exception in try so else will get execute\n",
        "  print('else')\n",
        "finally: # no matter what whether exception occured or not, it will get execute\n",
        "  print('finally')"
      ],
      "metadata": {
        "colab": {
          "base_uri": "https://localhost:8080/"
        },
        "id": "C8PRREIbUCD9",
        "outputId": "6d8baa25-33fc-4dbf-e403-91b5c1250dcf"
      },
      "execution_count": 17,
      "outputs": [
        {
          "output_type": "stream",
          "name": "stdout",
          "text": [
            "Try\n",
            "else\n",
            "finally\n"
          ]
        }
      ]
    },
    {
      "cell_type": "code",
      "source": [
        "try:\n",
        "  print(int(\"Try\"))\n",
        "except: # exception in try-except will not execute\n",
        "  print('except')\n",
        "else: # exception occured in try so else will not get execute\n",
        "  print('else')\n",
        "finally: # no matter what whether exception occured or not, it will get execute\n",
        "  print('finally')"
      ],
      "metadata": {
        "colab": {
          "base_uri": "https://localhost:8080/"
        },
        "id": "SjX_vJ879yX9",
        "outputId": "c1c5802a-8755-4ac5-f277-6bafad8e1452"
      },
      "execution_count": 18,
      "outputs": [
        {
          "output_type": "stream",
          "name": "stdout",
          "text": [
            "except\n",
            "finally\n"
          ]
        }
      ]
    },
    {
      "cell_type": "markdown",
      "source": [
        "# statements"
      ],
      "metadata": {
        "id": "_g7xo760VvYI"
      }
    },
    {
      "cell_type": "code",
      "source": [
        "# In Python’s exception handling mechanism, the code inside an else block executes when Python encounters an exception in the try block?\n",
        "# True or False"
      ],
      "metadata": {
        "id": "_fvlCjT9VxAO"
      },
      "execution_count": null,
      "outputs": []
    },
    {
      "cell_type": "code",
      "source": [
        "# When does Python execute the code inside a finally clause in a try … except … finally block?"
      ],
      "metadata": {
        "id": "Ugl2SodNV84n"
      },
      "execution_count": null,
      "outputs": []
    },
    {
      "cell_type": "code",
      "source": [
        "# as of now, we have seen all in-built exceptions\n",
        "class TooYoungException(Exception):\n",
        "  def __init__(self, msg):\n",
        "    self.msg = msg"
      ],
      "metadata": {
        "id": "YCCKPRLG-3eN"
      },
      "execution_count": 19,
      "outputs": []
    },
    {
      "cell_type": "code",
      "source": [
        "age = int(input('please enter your age for vote enrollment: '))\n",
        "if age < 18:\n",
        "  print('not elligble')\n",
        "else:\n",
        "  print('you are eligable to vote')\n",
        "\n",
        "print('go and cast a vote')"
      ],
      "metadata": {
        "colab": {
          "base_uri": "https://localhost:8080/"
        },
        "id": "bj9u2FKC_b77",
        "outputId": "6debb88a-31b9-4ea8-9d28-a7c62723a92e"
      },
      "execution_count": 22,
      "outputs": [
        {
          "output_type": "stream",
          "name": "stdout",
          "text": [
            "please enter your age for vote enrollment: 17\n",
            "not elligble\n",
            "go and cast a vote\n"
          ]
        }
      ]
    },
    {
      "cell_type": "code",
      "source": [
        "# by raising an exception we can stop the person to cast a vote\n",
        "# raise - keyword\n",
        "# raise TooYoungException(\"msg\")"
      ],
      "metadata": {
        "id": "7UDnXraF_uS3"
      },
      "execution_count": 22,
      "outputs": []
    },
    {
      "cell_type": "code",
      "source": [
        "age = int(input('please enter your age for vote enrollment: '))\n",
        "if age < 18:\n",
        "  raise TooYoungException('you are not old enough to vote')\n",
        "else:\n",
        "  print('you are eligable to vote')\n",
        "\n",
        "print('go and cast a vote')"
      ],
      "metadata": {
        "colab": {
          "base_uri": "https://localhost:8080/",
          "height": 228
        },
        "id": "bITccX1xAUIF",
        "outputId": "b088f616-3d92-4d99-c84d-2f88f98fce33"
      },
      "execution_count": 24,
      "outputs": [
        {
          "name": "stdout",
          "output_type": "stream",
          "text": [
            "please enter your age for vote enrollment: 15\n"
          ]
        },
        {
          "output_type": "error",
          "ename": "TooYoungException",
          "evalue": "you are not old enough to vote",
          "traceback": [
            "\u001b[0;31m---------------------------------------------------------------------------\u001b[0m",
            "\u001b[0;31mTooYoungException\u001b[0m                         Traceback (most recent call last)",
            "\u001b[0;32m<ipython-input-24-2b5e7acd0b4c>\u001b[0m in \u001b[0;36m<cell line: 2>\u001b[0;34m()\u001b[0m\n\u001b[1;32m      1\u001b[0m \u001b[0mage\u001b[0m \u001b[0;34m=\u001b[0m \u001b[0mint\u001b[0m\u001b[0;34m(\u001b[0m\u001b[0minput\u001b[0m\u001b[0;34m(\u001b[0m\u001b[0;34m'please enter your age for vote enrollment: '\u001b[0m\u001b[0;34m)\u001b[0m\u001b[0;34m)\u001b[0m\u001b[0;34m\u001b[0m\u001b[0;34m\u001b[0m\u001b[0m\n\u001b[1;32m      2\u001b[0m \u001b[0;32mif\u001b[0m \u001b[0mage\u001b[0m \u001b[0;34m<\u001b[0m \u001b[0;36m18\u001b[0m\u001b[0;34m:\u001b[0m\u001b[0;34m\u001b[0m\u001b[0;34m\u001b[0m\u001b[0m\n\u001b[0;32m----> 3\u001b[0;31m   \u001b[0;32mraise\u001b[0m \u001b[0mTooYoungException\u001b[0m\u001b[0;34m(\u001b[0m\u001b[0;34m'you are not old enough to vote'\u001b[0m\u001b[0;34m)\u001b[0m\u001b[0;34m\u001b[0m\u001b[0;34m\u001b[0m\u001b[0m\n\u001b[0m\u001b[1;32m      4\u001b[0m \u001b[0;32melse\u001b[0m\u001b[0;34m:\u001b[0m\u001b[0;34m\u001b[0m\u001b[0;34m\u001b[0m\u001b[0m\n\u001b[1;32m      5\u001b[0m   \u001b[0mprint\u001b[0m\u001b[0;34m(\u001b[0m\u001b[0;34m'you are eligable to vote'\u001b[0m\u001b[0;34m)\u001b[0m\u001b[0;34m\u001b[0m\u001b[0;34m\u001b[0m\u001b[0m\n",
            "\u001b[0;31mTooYoungException\u001b[0m: you are not old enough to vote"
          ]
        }
      ]
    },
    {
      "cell_type": "code",
      "source": [
        "try:\n",
        "  age = int(input('please enter your age for vote enrollment: '))\n",
        "  if age < 18:\n",
        "    raise TooYoungException('you are not old enough to vote')\n",
        "  else:\n",
        "    print('you are eligable to vote')\n",
        "except TooYoungException:\n",
        "  print(\"can't vote\")\n",
        "else:\n",
        "    print('go and cast a vote')\n",
        "finally:\n",
        "  print('voting process is done')"
      ],
      "metadata": {
        "colab": {
          "base_uri": "https://localhost:8080/"
        },
        "id": "dMiNRdXwBCHC",
        "outputId": "203988e7-f86c-4d35-fd32-715e68f66f0e"
      },
      "execution_count": 25,
      "outputs": [
        {
          "output_type": "stream",
          "name": "stdout",
          "text": [
            "please enter your age for vote enrollment: 34\n",
            "you are eligable to vote\n",
            "go and cast a vote\n",
            "voting is done\n"
          ]
        }
      ]
    },
    {
      "cell_type": "code",
      "source": [
        "# try, except, else, finally, raise"
      ],
      "metadata": {
        "id": "W-tmSoAXBuYw"
      },
      "execution_count": null,
      "outputs": []
    },
    {
      "cell_type": "code",
      "source": [
        "try:\n",
        "  print('stmt-1') # if there is an exception at statement-1, (stmt-2, stmt-3 will not execute) control goes to except block --> then finally\n",
        "  print('stmt-2') # if there is an exception at statement-2, (stmt-1 is executed, stmt-3 will not execute) control goes to except block --> then finally\n",
        "  print('stmt-3')\n",
        "except:\n",
        "  print('except')\n",
        "else: # when there is no exception in try then only else will execute.\n",
        "  print('else')\n",
        "finally: # exception occured or not finally will get execute.\n",
        "  print('finally')"
      ],
      "metadata": {
        "colab": {
          "base_uri": "https://localhost:8080/"
        },
        "id": "i4WpXM5ICLYY",
        "outputId": "22dc3dae-1d6e-46ee-f3c4-57e7290c3527"
      },
      "execution_count": 27,
      "outputs": [
        {
          "output_type": "stream",
          "name": "stdout",
          "text": [
            "stmt-1\n",
            "stmt-2\n",
            "stmt-3\n",
            "else\n",
            "finally\n"
          ]
        }
      ]
    },
    {
      "cell_type": "code",
      "source": [],
      "metadata": {
        "id": "7iKpDuClDK6m"
      },
      "execution_count": null,
      "outputs": []
    },
    {
      "cell_type": "markdown",
      "source": [
        "\n",
        "\n",
        "```\n",
        "# This is formatted as code\n",
        "Fill in the blanks:\n",
        "\n",
        "Here’s a quick recap of the various keywords that you can use in Python to handle exceptions:\n",
        "\n",
        "\n",
        " _______ allows you to trigger any exception at any time. (raise)\n",
        "\n",
        "\n",
        "  _______ executes all indented code until Python encounters an exception. (try)\n",
        "\n",
        "\n",
        "  _______ catches and handles the exceptions that Python encounters in the try clause. (except)\n",
        "\n",
        "\n",
        "  _______ lets you code sections that run only when Python encounters no exceptions in the try clause. (else)\n",
        "\n",
        "\n",
        "  _______ enables you to execute sections of code that should always run, whether or not Python encountered an exception. (finally)\n",
        "```\n",
        "\n"
      ],
      "metadata": {
        "id": "xl4p6l53WDZ6"
      }
    },
    {
      "cell_type": "code",
      "source": [],
      "metadata": {
        "id": "1kkRjy2tWQ6v"
      },
      "execution_count": 2,
      "outputs": []
    },
    {
      "cell_type": "code",
      "source": [],
      "metadata": {
        "id": "de2WE0cQZ-Yi"
      },
      "execution_count": null,
      "outputs": []
    }
  ]
}