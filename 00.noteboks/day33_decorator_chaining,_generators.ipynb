{
  "nbformat": 4,
  "nbformat_minor": 0,
  "metadata": {
    "colab": {
      "provenance": []
    },
    "kernelspec": {
      "name": "python3",
      "display_name": "Python 3"
    },
    "language_info": {
      "name": "python"
    }
  },
  "cells": [
    {
      "cell_type": "code",
      "source": [
        "# decorator: for an existing adding aditional functionality is called decorator; A decorator takes a function as an input arugment.\n",
        "\n",
        "def decor(func):\n",
        "  def wrapper(*args, **kwargs):\n",
        "    return func(args, kwargs)\n",
        "\n",
        "  return wrapper"
      ],
      "metadata": {
        "id": "D0_iGVwosQ8M"
      },
      "execution_count": null,
      "outputs": []
    },
    {
      "cell_type": "code",
      "source": [
        "# when i am having multiple decorators, and all these to applied to a single function -- chaining.\n",
        "\n",
        "@decor # decorator gets executed first\n",
        "def greet():\n",
        "  return \"Hello\" # 2nd priority."
      ],
      "metadata": {
        "id": "yorXMynY0MzU"
      },
      "execution_count": null,
      "outputs": []
    },
    {
      "cell_type": "code",
      "source": [
        "def decor1(func):\n",
        "  def wrapper():\n",
        "    print(\"i am decorator-1\")\n",
        "    return func()\n",
        "  return wrapper\n",
        "\n",
        "def decor2(func):\n",
        "  def wrapper():\n",
        "    print(\"i am decorator-2\")\n",
        "    return func()\n",
        "  return wrapper"
      ],
      "metadata": {
        "id": "aU9vSr9E0wll"
      },
      "execution_count": 1,
      "outputs": []
    },
    {
      "cell_type": "code",
      "source": [
        "@decor2\n",
        "@decor1\n",
        "def greet():\n",
        "  return \"Hello\""
      ],
      "metadata": {
        "id": "K90Qi4bN04io"
      },
      "execution_count": 2,
      "outputs": []
    },
    {
      "cell_type": "code",
      "source": [
        "greet()"
      ],
      "metadata": {
        "colab": {
          "base_uri": "https://localhost:8080/",
          "height": 70
        },
        "id": "JegkOWMm1YY3",
        "outputId": "b184b594-2c24-4f54-fa7f-a5e3757a267c"
      },
      "execution_count": 3,
      "outputs": [
        {
          "output_type": "stream",
          "name": "stdout",
          "text": [
            "i am decorator-2\n",
            "i am decorator-1\n"
          ]
        },
        {
          "output_type": "execute_result",
          "data": {
            "text/plain": [
              "'Hello'"
            ],
            "application/vnd.google.colaboratory.intrinsic+json": {
              "type": "string"
            }
          },
          "metadata": {},
          "execution_count": 3
        }
      ]
    },
    {
      "cell_type": "code",
      "source": [
        "def decor1(func):\n",
        "        def wrap():\n",
        "               print(\"************\")\n",
        "               func()\n",
        "               print(\"************\")\n",
        "        return wrap\n",
        "def decor2(func):\n",
        "        def wrap():\n",
        "               print(\"@@@@@@@@@@@@\")\n",
        "               func()\n",
        "               print(\"@@@@@@@@@@@@\")\n",
        "        return wrap\n",
        "\n",
        "@decor1\n",
        "@decor2\n",
        "def sayhellogfg():\n",
        "         print(\"Hello\")\n",
        "\n",
        "sayhellogfg()"
      ],
      "metadata": {
        "colab": {
          "base_uri": "https://localhost:8080/"
        },
        "id": "cnI5qshl1kl0",
        "outputId": "24050f9d-3325-41f4-875c-eeee5bf0483d"
      },
      "execution_count": 5,
      "outputs": [
        {
          "output_type": "stream",
          "name": "stdout",
          "text": [
            "************\n",
            "@@@@@@@@@@@@\n",
            "Hello\n",
            "@@@@@@@@@@@@\n",
            "************\n"
          ]
        }
      ]
    },
    {
      "cell_type": "code",
      "source": [
        "# change of decorator order\n",
        "\n",
        "def decor1(func):\n",
        "  def wrapper():\n",
        "    print(\"i am decorator-1\")\n",
        "    return func()\n",
        "  return wrapper\n",
        "\n",
        "def decor2(func):\n",
        "  def wrapper():\n",
        "    print(\"i am decorator-2\")\n",
        "    return func()\n",
        "  return wrapper\n",
        "\n",
        "\n",
        "@decor1\n",
        "@decor2\n",
        "def greet():\n",
        "  return \"Hello\"\n",
        "\n",
        "print(greet())"
      ],
      "metadata": {
        "colab": {
          "base_uri": "https://localhost:8080/"
        },
        "id": "YYyUmJsV2jyo",
        "outputId": "7e344b74-cf32-4cfc-876a-ce66c6be8253"
      },
      "execution_count": 6,
      "outputs": [
        {
          "output_type": "stream",
          "name": "stdout",
          "text": [
            "i am decorator-1\n",
            "i am decorator-2\n",
            "Hello\n"
          ]
        }
      ]
    },
    {
      "cell_type": "code",
      "source": [],
      "metadata": {
        "id": "X50LccpI4a1N"
      },
      "execution_count": null,
      "outputs": []
    },
    {
      "cell_type": "code",
      "source": [
        "# generators:\n",
        "#       generators are a function which is responsible to generate a sequene of numbers  ---> yield"
      ],
      "metadata": {
        "id": "RlC9C5Ez4efk"
      },
      "execution_count": 7,
      "outputs": []
    },
    {
      "cell_type": "code",
      "source": [
        "def gen1():\n",
        "  yield 1\n",
        "  yield 2\n",
        "  yield 3"
      ],
      "metadata": {
        "id": "g3Fbrbg25H8L"
      },
      "execution_count": 8,
      "outputs": []
    },
    {
      "cell_type": "code",
      "source": [
        "gen1()"
      ],
      "metadata": {
        "colab": {
          "base_uri": "https://localhost:8080/"
        },
        "id": "uvnUKAPR5U4g",
        "outputId": "63ddb833-d223-419a-d828-46b5631ad026"
      },
      "execution_count": 9,
      "outputs": [
        {
          "output_type": "execute_result",
          "data": {
            "text/plain": [
              "<generator object gen1 at 0x78d5708f4820>"
            ]
          },
          "metadata": {},
          "execution_count": 9
        }
      ]
    },
    {
      "cell_type": "code",
      "source": [
        "for i in gen1():\n",
        "  print(i)"
      ],
      "metadata": {
        "colab": {
          "base_uri": "https://localhost:8080/"
        },
        "id": "HjyIT3cR5Wy3",
        "outputId": "9d481be7-e438-4370-ed8f-5f7340d6f381"
      },
      "execution_count": 10,
      "outputs": [
        {
          "output_type": "stream",
          "name": "stdout",
          "text": [
            "1\n",
            "2\n",
            "3\n"
          ]
        }
      ]
    },
    {
      "cell_type": "code",
      "source": [
        "def add():\n",
        "  return 5\n",
        "  return 6"
      ],
      "metadata": {
        "id": "2Yga0w3F5dWv"
      },
      "execution_count": 11,
      "outputs": []
    },
    {
      "cell_type": "code",
      "source": [
        "add()"
      ],
      "metadata": {
        "colab": {
          "base_uri": "https://localhost:8080/"
        },
        "id": "4rWLnmRR5unF",
        "outputId": "d1352a5d-a8cc-40bf-c339-f075aa0c5ee2"
      },
      "execution_count": 12,
      "outputs": [
        {
          "output_type": "execute_result",
          "data": {
            "text/plain": [
              "5"
            ]
          },
          "metadata": {},
          "execution_count": 12
        }
      ]
    },
    {
      "cell_type": "code",
      "source": [
        "def gen1():\n",
        "  yield \"a\"\n",
        "  yield \"b\"\n",
        "  yield \"c\""
      ],
      "metadata": {
        "id": "kja_bfe75v9x"
      },
      "execution_count": 13,
      "outputs": []
    },
    {
      "cell_type": "code",
      "source": [
        "gen1()"
      ],
      "metadata": {
        "colab": {
          "base_uri": "https://localhost:8080/"
        },
        "id": "xKHilSMP6GPh",
        "outputId": "7a24df3b-5f0f-4c78-82f7-a4f4d59006b1"
      },
      "execution_count": 14,
      "outputs": [
        {
          "output_type": "execute_result",
          "data": {
            "text/plain": [
              "<generator object gen1 at 0x78d5708f49e0>"
            ]
          },
          "metadata": {},
          "execution_count": 14
        }
      ]
    },
    {
      "cell_type": "code",
      "source": [
        "for i in gen1():\n",
        "  print(i)"
      ],
      "metadata": {
        "colab": {
          "base_uri": "https://localhost:8080/"
        },
        "id": "s-r0exsy6IrU",
        "outputId": "34e311f6-0f48-4abc-99df-e77470c3f32a"
      },
      "execution_count": 15,
      "outputs": [
        {
          "output_type": "stream",
          "name": "stdout",
          "text": [
            "a\n",
            "b\n",
            "c\n"
          ]
        }
      ]
    },
    {
      "cell_type": "code",
      "source": [
        "g = gen1() # in a generic scene, when you iterate a generator object, it will do pop()"
      ],
      "metadata": {
        "id": "xMhxMVHB6MNJ"
      },
      "execution_count": 16,
      "outputs": []
    },
    {
      "cell_type": "code",
      "source": [
        "next(g)"
      ],
      "metadata": {
        "colab": {
          "base_uri": "https://localhost:8080/",
          "height": 36
        },
        "id": "3wpVg4_H6c12",
        "outputId": "861c5a28-ddc0-4bea-c1fc-360cb5025207"
      },
      "execution_count": 17,
      "outputs": [
        {
          "output_type": "execute_result",
          "data": {
            "text/plain": [
              "'a'"
            ],
            "application/vnd.google.colaboratory.intrinsic+json": {
              "type": "string"
            }
          },
          "metadata": {},
          "execution_count": 17
        }
      ]
    },
    {
      "cell_type": "code",
      "source": [
        "next(g)"
      ],
      "metadata": {
        "colab": {
          "base_uri": "https://localhost:8080/",
          "height": 36
        },
        "id": "8RMiHuH96kCv",
        "outputId": "66198c14-0785-4c88-bbb6-88f12a971361"
      },
      "execution_count": 18,
      "outputs": [
        {
          "output_type": "execute_result",
          "data": {
            "text/plain": [
              "'b'"
            ],
            "application/vnd.google.colaboratory.intrinsic+json": {
              "type": "string"
            }
          },
          "metadata": {},
          "execution_count": 18
        }
      ]
    },
    {
      "cell_type": "code",
      "source": [
        "next(g) # generator empty"
      ],
      "metadata": {
        "colab": {
          "base_uri": "https://localhost:8080/",
          "height": 36
        },
        "id": "7YDO7G9D6po9",
        "outputId": "2b1c1a5c-6fb3-4b45-a908-1c31a0481b2e"
      },
      "execution_count": 19,
      "outputs": [
        {
          "output_type": "execute_result",
          "data": {
            "text/plain": [
              "'c'"
            ],
            "application/vnd.google.colaboratory.intrinsic+json": {
              "type": "string"
            }
          },
          "metadata": {},
          "execution_count": 19
        }
      ]
    },
    {
      "cell_type": "code",
      "source": [
        "next(g) # StopIteration"
      ],
      "metadata": {
        "colab": {
          "base_uri": "https://localhost:8080/",
          "height": 141
        },
        "id": "Tam1vP7O65JN",
        "outputId": "785b0adb-3816-4481-a5e6-0113f5d7ad8b"
      },
      "execution_count": 20,
      "outputs": [
        {
          "output_type": "error",
          "ename": "StopIteration",
          "evalue": "",
          "traceback": [
            "\u001b[0;31m---------------------------------------------------------------------------\u001b[0m",
            "\u001b[0;31mStopIteration\u001b[0m                             Traceback (most recent call last)",
            "\u001b[0;32m<ipython-input-20-6aee6d7b68b4>\u001b[0m in \u001b[0;36m<cell line: 1>\u001b[0;34m()\u001b[0m\n\u001b[0;32m----> 1\u001b[0;31m \u001b[0mnext\u001b[0m\u001b[0;34m(\u001b[0m\u001b[0mg\u001b[0m\u001b[0;34m)\u001b[0m \u001b[0;31m# StopIteration\u001b[0m\u001b[0;34m\u001b[0m\u001b[0;34m\u001b[0m\u001b[0m\n\u001b[0m",
            "\u001b[0;31mStopIteration\u001b[0m: "
          ]
        }
      ]
    },
    {
      "cell_type": "code",
      "source": [
        "g"
      ],
      "metadata": {
        "colab": {
          "base_uri": "https://localhost:8080/"
        },
        "id": "G3oynK8t7CVv",
        "outputId": "8b4894fa-0c31-43b3-84ca-934aa61d048c"
      },
      "execution_count": 21,
      "outputs": [
        {
          "output_type": "execute_result",
          "data": {
            "text/plain": [
              "<generator object gen1 at 0x78d5708f4430>"
            ]
          },
          "metadata": {},
          "execution_count": 21
        }
      ]
    },
    {
      "cell_type": "code",
      "source": [
        "list(g)"
      ],
      "metadata": {
        "colab": {
          "base_uri": "https://localhost:8080/"
        },
        "id": "NYq7ZCJ_7UHd",
        "outputId": "cf9ebd93-6f40-48b7-cf29-9da77f4339ed"
      },
      "execution_count": 22,
      "outputs": [
        {
          "output_type": "execute_result",
          "data": {
            "text/plain": [
              "[]"
            ]
          },
          "metadata": {},
          "execution_count": 22
        }
      ]
    },
    {
      "cell_type": "code",
      "source": [
        "tuple(g)"
      ],
      "metadata": {
        "colab": {
          "base_uri": "https://localhost:8080/"
        },
        "id": "w1wl4sTY7Xkk",
        "outputId": "075e91bf-1fbe-4a4d-ee72-e8eeb580d0e4"
      },
      "execution_count": 23,
      "outputs": [
        {
          "output_type": "execute_result",
          "data": {
            "text/plain": [
              "()"
            ]
          },
          "metadata": {},
          "execution_count": 23
        }
      ]
    },
    {
      "cell_type": "code",
      "source": [
        "g = gen1()"
      ],
      "metadata": {
        "id": "-Pehxb7j7Zud"
      },
      "execution_count": 24,
      "outputs": []
    },
    {
      "cell_type": "code",
      "source": [
        "list(g) # done, all generator values gone"
      ],
      "metadata": {
        "colab": {
          "base_uri": "https://localhost:8080/"
        },
        "id": "xj1iC1rO7cxA",
        "outputId": "67601399-4f5b-45ee-cd61-f9e11199ee43"
      },
      "execution_count": 25,
      "outputs": [
        {
          "output_type": "execute_result",
          "data": {
            "text/plain": [
              "['a', 'b', 'c']"
            ]
          },
          "metadata": {},
          "execution_count": 25
        }
      ]
    },
    {
      "cell_type": "code",
      "source": [
        "tuple(g)"
      ],
      "metadata": {
        "colab": {
          "base_uri": "https://localhost:8080/"
        },
        "id": "4LHBz6zd7elK",
        "outputId": "d14ce5c4-75d2-4811-a87a-e14249776386"
      },
      "execution_count": 26,
      "outputs": [
        {
          "output_type": "execute_result",
          "data": {
            "text/plain": [
              "()"
            ]
          },
          "metadata": {},
          "execution_count": 26
        }
      ]
    },
    {
      "cell_type": "code",
      "source": [
        "# Rule: you can perform iteration on generator object only one time.\n",
        "\n",
        "next(g) # when you are accessing on empty generator."
      ],
      "metadata": {
        "colab": {
          "base_uri": "https://localhost:8080/",
          "height": 176
        },
        "id": "SISYUNYP7mrL",
        "outputId": "29536cc8-fd3a-4ede-e22c-cab4afde7515"
      },
      "execution_count": 27,
      "outputs": [
        {
          "output_type": "error",
          "ename": "StopIteration",
          "evalue": "",
          "traceback": [
            "\u001b[0;31m---------------------------------------------------------------------------\u001b[0m",
            "\u001b[0;31mStopIteration\u001b[0m                             Traceback (most recent call last)",
            "\u001b[0;32m<ipython-input-27-928534f1b69e>\u001b[0m in \u001b[0;36m<cell line: 3>\u001b[0;34m()\u001b[0m\n\u001b[1;32m      1\u001b[0m \u001b[0;31m# Rule: you can perform iteration on generator object only one time.\u001b[0m\u001b[0;34m\u001b[0m\u001b[0;34m\u001b[0m\u001b[0m\n\u001b[1;32m      2\u001b[0m \u001b[0;34m\u001b[0m\u001b[0m\n\u001b[0;32m----> 3\u001b[0;31m \u001b[0mnext\u001b[0m\u001b[0;34m(\u001b[0m\u001b[0mg\u001b[0m\u001b[0;34m)\u001b[0m\u001b[0;34m\u001b[0m\u001b[0;34m\u001b[0m\u001b[0m\n\u001b[0m",
            "\u001b[0;31mStopIteration\u001b[0m: "
          ]
        }
      ]
    },
    {
      "cell_type": "code",
      "source": [
        "# summary:\n",
        "\n",
        "# generator is a function which generates a sequence of data\n",
        "# you can generate sequence using --> yield keyword\n",
        "# use next() to get the generator values (or) use the loop\n",
        "\n",
        "# once you iterate the generator object, it will be empty (when accessing it will do pop() to return the values)"
      ],
      "metadata": {
        "id": "3opUVTdX76tk"
      },
      "execution_count": null,
      "outputs": []
    },
    {
      "cell_type": "code",
      "source": [
        "# without generators\n",
        "\n",
        "num_list = [i for i in range(9689485945898954859)]"
      ],
      "metadata": {
        "id": "ccEv72bk829v"
      },
      "execution_count": null,
      "outputs": []
    },
    {
      "cell_type": "code",
      "source": [
        "# with generators\n",
        "num_list = (i for i in range(9689485945898954859))"
      ],
      "metadata": {
        "id": "UxHSEdpZ85yH"
      },
      "execution_count": 1,
      "outputs": []
    },
    {
      "cell_type": "code",
      "source": [
        "next(num_list) # pop()"
      ],
      "metadata": {
        "colab": {
          "base_uri": "https://localhost:8080/"
        },
        "id": "UO4ATd1v9aW9",
        "outputId": "2576fa4d-8751-47c7-c26d-ea3a5d7b9fd7"
      },
      "execution_count": 2,
      "outputs": [
        {
          "output_type": "execute_result",
          "data": {
            "text/plain": [
              "0"
            ]
          },
          "metadata": {},
          "execution_count": 2
        }
      ]
    },
    {
      "cell_type": "code",
      "source": [
        "next(num_list)"
      ],
      "metadata": {
        "colab": {
          "base_uri": "https://localhost:8080/"
        },
        "id": "7xFfeQ8x9fRm",
        "outputId": "8b149290-f6e4-4dc9-b3f0-0639d9d5bfa9"
      },
      "execution_count": 3,
      "outputs": [
        {
          "output_type": "execute_result",
          "data": {
            "text/plain": [
              "1"
            ]
          },
          "metadata": {},
          "execution_count": 3
        }
      ]
    },
    {
      "cell_type": "code",
      "source": [
        "# advatage:\n",
        "\n",
        "# memory storage is very good in generators\n",
        "# performance is good in generator compare with list/tuple"
      ],
      "metadata": {
        "id": "lNXMvWGv9hAK"
      },
      "execution_count": null,
      "outputs": []
    }
  ]
}