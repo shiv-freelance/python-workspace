{
  "nbformat": 4,
  "nbformat_minor": 0,
  "metadata": {
    "colab": {
      "provenance": []
    },
    "kernelspec": {
      "name": "python3",
      "display_name": "Python 3"
    },
    "language_info": {
      "name": "python"
    }
  },
  "cells": [
    {
      "cell_type": "code",
      "execution_count": 1,
      "metadata": {
        "id": "euOXhlv-JlsD"
      },
      "outputs": [],
      "source": [
        "# what is polymorphism\n",
        "# poly - many forms - the ability of a method changed to many forms is called Polymorphism\n",
        "\n",
        "# types\n",
        "# 1. compile time   2. run time\n",
        "# compile - overloading (constructor, method) - object (constructor, method) - isnot possible in python.\n",
        "# runtime - overriding (constructor, method) - at the time of program execution.\n",
        "\n",
        "class A:\n",
        "  def __init__(self):\n",
        "    print('zero arguments')\n",
        "\n",
        "  def __init__(self, x):\n",
        "    print(\"i will have x as an arugment\")\n",
        "\n",
        "  def m1(self):\n",
        "    print('m1 zero arg')\n",
        "\n",
        "  def m1(self, y):\n",
        "    print('m1 y as an argument')"
      ]
    },
    {
      "cell_type": "code",
      "source": [
        "a = A()"
      ],
      "metadata": {
        "colab": {
          "base_uri": "https://localhost:8080/",
          "height": 141
        },
        "id": "I9EmiVaQLkaQ",
        "outputId": "eca838fb-7617-4f64-b084-e78a97781ce9"
      },
      "execution_count": 2,
      "outputs": [
        {
          "output_type": "error",
          "ename": "TypeError",
          "evalue": "A.__init__() missing 1 required positional argument: 'x'",
          "traceback": [
            "\u001b[0;31m---------------------------------------------------------------------------\u001b[0m",
            "\u001b[0;31mTypeError\u001b[0m                                 Traceback (most recent call last)",
            "\u001b[0;32m<ipython-input-2-7f181d8f00b8>\u001b[0m in \u001b[0;36m<cell line: 1>\u001b[0;34m()\u001b[0m\n\u001b[0;32m----> 1\u001b[0;31m \u001b[0ma\u001b[0m \u001b[0;34m=\u001b[0m \u001b[0mA\u001b[0m\u001b[0;34m(\u001b[0m\u001b[0;34m)\u001b[0m\u001b[0;34m\u001b[0m\u001b[0;34m\u001b[0m\u001b[0m\n\u001b[0m",
            "\u001b[0;31mTypeError\u001b[0m: A.__init__() missing 1 required positional argument: 'x'"
          ]
        }
      ]
    },
    {
      "cell_type": "code",
      "source": [
        "a = A(10)"
      ],
      "metadata": {
        "colab": {
          "base_uri": "https://localhost:8080/"
        },
        "id": "JgGnoqIOLqwL",
        "outputId": "af333cc1-e854-4eb5-dc56-8ea999c8b28e"
      },
      "execution_count": 3,
      "outputs": [
        {
          "output_type": "stream",
          "name": "stdout",
          "text": [
            "i will have x as an arugment\n"
          ]
        }
      ]
    },
    {
      "cell_type": "code",
      "source": [
        "a.m1()"
      ],
      "metadata": {
        "colab": {
          "base_uri": "https://localhost:8080/",
          "height": 141
        },
        "id": "kl9_MHRAL_EU",
        "outputId": "f05fc7b5-0ee3-44ff-ed79-80d4029187cd"
      },
      "execution_count": 4,
      "outputs": [
        {
          "output_type": "error",
          "ename": "TypeError",
          "evalue": "A.m1() missing 1 required positional argument: 'y'",
          "traceback": [
            "\u001b[0;31m---------------------------------------------------------------------------\u001b[0m",
            "\u001b[0;31mTypeError\u001b[0m                                 Traceback (most recent call last)",
            "\u001b[0;32m<ipython-input-4-488295162a91>\u001b[0m in \u001b[0;36m<cell line: 1>\u001b[0;34m()\u001b[0m\n\u001b[0;32m----> 1\u001b[0;31m \u001b[0ma\u001b[0m\u001b[0;34m.\u001b[0m\u001b[0mm1\u001b[0m\u001b[0;34m(\u001b[0m\u001b[0;34m)\u001b[0m\u001b[0;34m\u001b[0m\u001b[0;34m\u001b[0m\u001b[0m\n\u001b[0m",
            "\u001b[0;31mTypeError\u001b[0m: A.m1() missing 1 required positional argument: 'y'"
          ]
        }
      ]
    },
    {
      "cell_type": "code",
      "source": [
        "class A:\n",
        "  def __init__(self, x):\n",
        "    print(\"i will have x as an arugment\")\n",
        "\n",
        "  def __init__(self):\n",
        "    print('zero arguments')\n",
        "\n",
        "  def m1(self, y):\n",
        "    print('m1 y as an argument')\n",
        "\n",
        "  def m1(self):\n",
        "    print('m1 zero arg')\n",
        ""
      ],
      "metadata": {
        "id": "g7QdiY2yMJ-O"
      },
      "execution_count": 5,
      "outputs": []
    },
    {
      "cell_type": "code",
      "source": [
        "a = A(10)"
      ],
      "metadata": {
        "colab": {
          "base_uri": "https://localhost:8080/",
          "height": 141
        },
        "id": "rwXF3lJbMjC_",
        "outputId": "351aaf41-30d1-461c-9b7d-9e61ef9eb1bd"
      },
      "execution_count": 6,
      "outputs": [
        {
          "output_type": "error",
          "ename": "TypeError",
          "evalue": "A.__init__() takes 1 positional argument but 2 were given",
          "traceback": [
            "\u001b[0;31m---------------------------------------------------------------------------\u001b[0m",
            "\u001b[0;31mTypeError\u001b[0m                                 Traceback (most recent call last)",
            "\u001b[0;32m<ipython-input-6-ffafa2dc3051>\u001b[0m in \u001b[0;36m<cell line: 1>\u001b[0;34m()\u001b[0m\n\u001b[0;32m----> 1\u001b[0;31m \u001b[0ma\u001b[0m \u001b[0;34m=\u001b[0m \u001b[0mA\u001b[0m\u001b[0;34m(\u001b[0m\u001b[0;36m10\u001b[0m\u001b[0;34m)\u001b[0m\u001b[0;34m\u001b[0m\u001b[0;34m\u001b[0m\u001b[0m\n\u001b[0m",
            "\u001b[0;31mTypeError\u001b[0m: A.__init__() takes 1 positional argument but 2 were given"
          ]
        }
      ]
    },
    {
      "cell_type": "code",
      "source": [
        "a = A()"
      ],
      "metadata": {
        "colab": {
          "base_uri": "https://localhost:8080/"
        },
        "id": "DGPcyiLvMqQq",
        "outputId": "355639ab-99d0-4f0a-c4dd-889a35ddd628"
      },
      "execution_count": 7,
      "outputs": [
        {
          "output_type": "stream",
          "name": "stdout",
          "text": [
            "zero arguments\n"
          ]
        }
      ]
    },
    {
      "cell_type": "code",
      "source": [
        "a.m1()"
      ],
      "metadata": {
        "colab": {
          "base_uri": "https://localhost:8080/"
        },
        "id": "TtheFixMMt0a",
        "outputId": "d0ebada7-1d6c-4c4f-ae3d-2692c62d63b5"
      },
      "execution_count": 8,
      "outputs": [
        {
          "output_type": "stream",
          "name": "stdout",
          "text": [
            "m1 zero arg\n"
          ]
        }
      ]
    },
    {
      "cell_type": "code",
      "source": [
        "a.m1(20)"
      ],
      "metadata": {
        "colab": {
          "base_uri": "https://localhost:8080/",
          "height": 141
        },
        "id": "qh90MuGMMzCa",
        "outputId": "ba85510a-3226-4eb0-a367-ae3d896e21a4"
      },
      "execution_count": 9,
      "outputs": [
        {
          "output_type": "error",
          "ename": "TypeError",
          "evalue": "A.m1() takes 1 positional argument but 2 were given",
          "traceback": [
            "\u001b[0;31m---------------------------------------------------------------------------\u001b[0m",
            "\u001b[0;31mTypeError\u001b[0m                                 Traceback (most recent call last)",
            "\u001b[0;32m<ipython-input-9-acba841161af>\u001b[0m in \u001b[0;36m<cell line: 1>\u001b[0;34m()\u001b[0m\n\u001b[0;32m----> 1\u001b[0;31m \u001b[0ma\u001b[0m\u001b[0;34m.\u001b[0m\u001b[0mm1\u001b[0m\u001b[0;34m(\u001b[0m\u001b[0;36m20\u001b[0m\u001b[0;34m)\u001b[0m\u001b[0;34m\u001b[0m\u001b[0;34m\u001b[0m\u001b[0m\n\u001b[0m",
            "\u001b[0;31mTypeError\u001b[0m: A.m1() takes 1 positional argument but 2 were given"
          ]
        }
      ]
    },
    {
      "cell_type": "code",
      "source": [],
      "metadata": {
        "id": "uWnEuPBrM3YO"
      },
      "execution_count": null,
      "outputs": []
    },
    {
      "cell_type": "markdown",
      "source": [
        "# 2. Runtime polymorphism"
      ],
      "metadata": {
        "id": "9NSBsOw8NCQV"
      }
    },
    {
      "cell_type": "code",
      "source": [
        "# runtime polymorphism works only in the case inheritance.\n",
        "class A:\n",
        "  def m1(self):\n",
        "    print('A class m1() method')\n",
        "\n",
        "class B(A):\n",
        "  pass"
      ],
      "metadata": {
        "id": "fqdYni-DNBmf"
      },
      "execution_count": 12,
      "outputs": []
    },
    {
      "cell_type": "code",
      "source": [
        "b = B()"
      ],
      "metadata": {
        "id": "ShskUUciNlcC"
      },
      "execution_count": 13,
      "outputs": []
    },
    {
      "cell_type": "code",
      "source": [
        "b.m1()"
      ],
      "metadata": {
        "colab": {
          "base_uri": "https://localhost:8080/"
        },
        "id": "zA8JBNPQNmk4",
        "outputId": "cb71ee65-eeb4-4a9f-ab33-0f16c18c4a85"
      },
      "execution_count": 14,
      "outputs": [
        {
          "output_type": "stream",
          "name": "stdout",
          "text": [
            "A class m1() method\n"
          ]
        }
      ]
    },
    {
      "cell_type": "code",
      "source": [
        "# overriding - method name should be the same, also no.of argument should be same.\n",
        "class A:\n",
        "  def m1(self):\n",
        "    print('A class m1() method')\n",
        "\n",
        "class B(A):\n",
        "  def m1(self):\n",
        "    print('B class m1() method')"
      ],
      "metadata": {
        "id": "CDS_g6FUOAlv"
      },
      "execution_count": 15,
      "outputs": []
    },
    {
      "cell_type": "code",
      "source": [
        "b = B()"
      ],
      "metadata": {
        "id": "kM0-3vWNOLpE"
      },
      "execution_count": 16,
      "outputs": []
    },
    {
      "cell_type": "code",
      "source": [
        "b.m1()"
      ],
      "metadata": {
        "colab": {
          "base_uri": "https://localhost:8080/"
        },
        "id": "5cLa6Oa7ONIz",
        "outputId": "b8cd6196-77e8-4415-e182-54c5486ff51b"
      },
      "execution_count": 17,
      "outputs": [
        {
          "output_type": "stream",
          "name": "stdout",
          "text": [
            "B class m1() method\n"
          ]
        }
      ]
    },
    {
      "cell_type": "code",
      "source": [
        "class A: # super class\n",
        "  def m1(self):\n",
        "    print('A class m1() method')\n",
        "\n",
        "class B(A): # sub class\n",
        "  def m1(self):\n",
        "    print('B class m1() method')\n",
        "    super().m1()"
      ],
      "metadata": {
        "id": "0FiRphjIOSeR"
      },
      "execution_count": 25,
      "outputs": []
    },
    {
      "cell_type": "code",
      "source": [
        "b = B()"
      ],
      "metadata": {
        "id": "m321S2HCPGiC"
      },
      "execution_count": 26,
      "outputs": []
    },
    {
      "cell_type": "code",
      "source": [
        "b.m1()"
      ],
      "metadata": {
        "colab": {
          "base_uri": "https://localhost:8080/"
        },
        "id": "-FhaljTrPIXL",
        "outputId": "cb144b8a-fad5-4c03-dfaa-2ebdc9e9e914"
      },
      "execution_count": 27,
      "outputs": [
        {
          "output_type": "stream",
          "name": "stdout",
          "text": [
            "B class m1() method\n",
            "A class m1() method\n"
          ]
        }
      ]
    },
    {
      "cell_type": "code",
      "source": [
        "class A:\n",
        "  def __init__(self):\n",
        "    print('A class constructor')\n",
        "\n",
        "class B:\n",
        "  pass"
      ],
      "metadata": {
        "id": "Xy2HK1oTPKkG"
      },
      "execution_count": 28,
      "outputs": []
    },
    {
      "cell_type": "code",
      "source": [
        "b = B()"
      ],
      "metadata": {
        "id": "JE4vum-6Pr-R"
      },
      "execution_count": 29,
      "outputs": []
    },
    {
      "cell_type": "code",
      "source": [
        "class A:\n",
        "  def __init__(self):\n",
        "    print('A class constructor')\n",
        "\n",
        "class B(A): # when python is giving the constructor, it will call the super class constructor\n",
        "  pass"
      ],
      "metadata": {
        "id": "5KQHsrA-Ps50"
      },
      "execution_count": 30,
      "outputs": []
    },
    {
      "cell_type": "code",
      "source": [
        "b = B()"
      ],
      "metadata": {
        "colab": {
          "base_uri": "https://localhost:8080/"
        },
        "id": "y2wHWVX0Py23",
        "outputId": "c3600c9a-1170-4d82-b378-59a19ef13768"
      },
      "execution_count": 31,
      "outputs": [
        {
          "output_type": "stream",
          "name": "stdout",
          "text": [
            "A class constructor\n"
          ]
        }
      ]
    },
    {
      "cell_type": "code",
      "source": [
        "class A:\n",
        "  def __init__(self):\n",
        "    print('A class constructor')\n",
        "\n",
        "class B(A):\n",
        "  def __init__(self):\n",
        "    print('B class constructor')"
      ],
      "metadata": {
        "id": "MNP_n7-sPz77"
      },
      "execution_count": 32,
      "outputs": []
    },
    {
      "cell_type": "code",
      "source": [
        "b = B()"
      ],
      "metadata": {
        "colab": {
          "base_uri": "https://localhost:8080/"
        },
        "id": "Y1px9NzOQDbX",
        "outputId": "87aa88dd-17a4-4001-8495-64c5d561c7d3"
      },
      "execution_count": 33,
      "outputs": [
        {
          "output_type": "stream",
          "name": "stdout",
          "text": [
            "B class constructor\n"
          ]
        }
      ]
    },
    {
      "cell_type": "code",
      "source": [
        "# call super class constructor\n",
        "class A:\n",
        "  def __init__(self):\n",
        "    print('A class constructor')\n",
        "\n",
        "class B(A):\n",
        "  def __init__(self):\n",
        "    super().__init__()\n",
        "    print('B class constructor')"
      ],
      "metadata": {
        "id": "rVROMFkVQIyG"
      },
      "execution_count": 34,
      "outputs": []
    },
    {
      "cell_type": "code",
      "source": [
        "b = B()"
      ],
      "metadata": {
        "colab": {
          "base_uri": "https://localhost:8080/"
        },
        "id": "n0Tvs5zrQkCs",
        "outputId": "c67f18a5-7780-4a45-bb37-f12c11a31dfa"
      },
      "execution_count": 35,
      "outputs": [
        {
          "output_type": "stream",
          "name": "stdout",
          "text": [
            "A class constructor\n",
            "B class constructor\n"
          ]
        }
      ]
    },
    {
      "cell_type": "code",
      "source": [
        "class A: # super class\n",
        "  def __init__(self):\n",
        "    print('A class constructor')\n",
        "\n",
        "  def m1(self):\n",
        "    print('A class m1() method')\n",
        "\n",
        "\n",
        "class B(A): # B - sub class\n",
        "  def __init__(self):\n",
        "    print('B class constructor')\n",
        "    super().__init__() # calling the super class constructor\n",
        "\n",
        "  def m1(self):\n",
        "    super().m1() # calling super class m1() method\n",
        "    print('B class m1() method')\n"
      ],
      "metadata": {
        "id": "5U3jbq4_Ql6O"
      },
      "execution_count": 54,
      "outputs": []
    },
    {
      "cell_type": "code",
      "source": [
        "b = B()"
      ],
      "metadata": {
        "colab": {
          "base_uri": "https://localhost:8080/"
        },
        "id": "QBAA1aruRRb7",
        "outputId": "1af9be19-2b53-4429-f318-af20f3766907"
      },
      "execution_count": 55,
      "outputs": [
        {
          "output_type": "stream",
          "name": "stdout",
          "text": [
            "B class constructor\n",
            "A class constructor\n"
          ]
        }
      ]
    },
    {
      "cell_type": "code",
      "source": [
        "b.m1()"
      ],
      "metadata": {
        "colab": {
          "base_uri": "https://localhost:8080/"
        },
        "id": "h5ylr6GIRbWT",
        "outputId": "75ac03bc-ec5a-4fc9-c065-8a1410114efa"
      },
      "execution_count": 56,
      "outputs": [
        {
          "output_type": "stream",
          "name": "stdout",
          "text": [
            "A class m1() method\n",
            "B class m1() method\n"
          ]
        }
      ]
    },
    {
      "cell_type": "code",
      "source": [],
      "metadata": {
        "id": "8xI1yoxARkV9"
      },
      "execution_count": null,
      "outputs": []
    },
    {
      "cell_type": "code",
      "source": [
        "class A: # super class\n",
        "  def __init__(self):\n",
        "    print('A class constructor')\n",
        "\n",
        "  def m1(self):\n",
        "    print('A class m1() method')\n",
        "\n",
        "\n",
        "class B(A): # B - sub class\n",
        "  def __init__(self):\n",
        "    print('B class constructor')\n",
        "    super().__init__() # calling the super class constructor\n",
        "\n",
        "  def m1(self):\n",
        "    super().m1() # calling super class m1() method\n",
        "    print('B class m1() method')\n",
        "\n",
        "  def m2(self):\n",
        "    print('m2 method of B class')\n",
        "    super().m1() # calling A class m1() from m2()\n"
      ],
      "metadata": {
        "id": "oXaYA4kMTAse"
      },
      "execution_count": 57,
      "outputs": []
    },
    {
      "cell_type": "code",
      "source": [
        "b = B()"
      ],
      "metadata": {
        "colab": {
          "base_uri": "https://localhost:8080/"
        },
        "id": "hJ1g1elkTJHb",
        "outputId": "b8d6ce94-1425-4f85-842d-ed1d8b81bdf2"
      },
      "execution_count": 58,
      "outputs": [
        {
          "output_type": "stream",
          "name": "stdout",
          "text": [
            "B class constructor\n",
            "A class constructor\n"
          ]
        }
      ]
    },
    {
      "cell_type": "code",
      "source": [
        "b.m2()"
      ],
      "metadata": {
        "colab": {
          "base_uri": "https://localhost:8080/"
        },
        "id": "OFgKadqjTLgx",
        "outputId": "c733c5fa-12ca-4f1f-8c47-ced7a5be641b"
      },
      "execution_count": 59,
      "outputs": [
        {
          "output_type": "stream",
          "name": "stdout",
          "text": [
            "m2 method of B class\n",
            "A class m1() method\n"
          ]
        }
      ]
    },
    {
      "cell_type": "code",
      "source": [
        "# another approach to call a cosntructor\n",
        "class A:\n",
        "  def __init__(self):\n",
        "    print('A class constructor')\n",
        "\n",
        "class B(A):\n",
        "  def __init__(self):\n",
        "    print(\"B class Constructor\")\n",
        "    # super().__init__()\n",
        "    A.__init__(self)"
      ],
      "metadata": {
        "id": "US5FcxHFTQTo"
      },
      "execution_count": 64,
      "outputs": []
    },
    {
      "cell_type": "code",
      "source": [
        "b = B()"
      ],
      "metadata": {
        "colab": {
          "base_uri": "https://localhost:8080/"
        },
        "id": "0Gqah-ZSTuHw",
        "outputId": "326f4321-f74d-4f66-d804-ce2de089280b"
      },
      "execution_count": 65,
      "outputs": [
        {
          "output_type": "stream",
          "name": "stdout",
          "text": [
            "B class Constructor\n",
            "A class constructor\n"
          ]
        }
      ]
    },
    {
      "cell_type": "code",
      "source": [
        "class Father:\n",
        "  def __init__(self):\n",
        "    print('father class')\n",
        "\n",
        "class Mother:\n",
        "  def __init__(self):\n",
        "    print('mother class')\n",
        "\n",
        "\n",
        "class Son(Father, Mother): # multiple inheritance\n",
        "  def __init__(self):\n",
        "    print(\"son class\")\n",
        "    # super().__init__()\n",
        "    Father.__init__(self)\n",
        "    Mother.__init__(self)"
      ],
      "metadata": {
        "id": "GhqDFK-STvOQ"
      },
      "execution_count": 72,
      "outputs": []
    },
    {
      "cell_type": "code",
      "source": [
        "son = Son()"
      ],
      "metadata": {
        "colab": {
          "base_uri": "https://localhost:8080/"
        },
        "id": "GEjYKZIFUSzr",
        "outputId": "196da2ae-98ce-4947-edf3-db20a41797d3"
      },
      "execution_count": 73,
      "outputs": [
        {
          "output_type": "stream",
          "name": "stdout",
          "text": [
            "son class\n",
            "father class\n",
            "mother class\n"
          ]
        }
      ]
    },
    {
      "cell_type": "code",
      "source": [
        "class Father:\n",
        "  def __init__(self):\n",
        "    print('father class')\n",
        "\n",
        "class Mother:\n",
        "  def __init__(self):\n",
        "    print('mother class')\n",
        "\n",
        "\n",
        "class Son(Father, Mother): # multiple inheritance\n",
        "  def test_method(self):\n",
        "    print('test method')"
      ],
      "metadata": {
        "id": "u1H7uQS-UUe6"
      },
      "execution_count": 74,
      "outputs": []
    },
    {
      "cell_type": "code",
      "source": [
        "son = Son()"
      ],
      "metadata": {
        "colab": {
          "base_uri": "https://localhost:8080/"
        },
        "id": "CUZkCkVhVSGk",
        "outputId": "2fdf4cd8-41ef-47ad-b478-01742e13b45b"
      },
      "execution_count": 75,
      "outputs": [
        {
          "output_type": "stream",
          "name": "stdout",
          "text": [
            "father class\n"
          ]
        }
      ]
    },
    {
      "cell_type": "code",
      "source": [
        "son.test_method()"
      ],
      "metadata": {
        "colab": {
          "base_uri": "https://localhost:8080/"
        },
        "id": "noSrxP7WVTbi",
        "outputId": "03c82b38-d442-4814-d4b0-903aadecd174"
      },
      "execution_count": 76,
      "outputs": [
        {
          "output_type": "stream",
          "name": "stdout",
          "text": [
            "test method\n"
          ]
        }
      ]
    },
    {
      "cell_type": "code",
      "source": [
        "class Father:\n",
        "  def __init__(self):\n",
        "    print('father class')\n",
        "\n",
        "class Mother:\n",
        "  def __init__(self):\n",
        "    print('mother class')\n",
        "\n",
        "\n",
        "class Son(Father, Mother): # from instance methods also, you can call the super class constructors.\n",
        "  def test_method(self):\n",
        "    print('test method')\n",
        "    Father.__init__(self)\n",
        "    Mother.__init__(self)"
      ],
      "metadata": {
        "id": "WIn0BT9XVWhZ"
      },
      "execution_count": 77,
      "outputs": []
    },
    {
      "cell_type": "code",
      "source": [
        "son = Son()"
      ],
      "metadata": {
        "colab": {
          "base_uri": "https://localhost:8080/"
        },
        "id": "lZDUqqD6VeYE",
        "outputId": "75e32bb0-c23f-449d-fd3c-db4d7b506c49"
      },
      "execution_count": 78,
      "outputs": [
        {
          "output_type": "stream",
          "name": "stdout",
          "text": [
            "father class\n"
          ]
        }
      ]
    },
    {
      "cell_type": "code",
      "source": [
        "son.test_method()"
      ],
      "metadata": {
        "colab": {
          "base_uri": "https://localhost:8080/"
        },
        "id": "Dpu76KuvVhsd",
        "outputId": "f3334059-a340-420f-91d5-0f40a8510bc6"
      },
      "execution_count": 79,
      "outputs": [
        {
          "output_type": "stream",
          "name": "stdout",
          "text": [
            "test method\n",
            "father class\n",
            "mother class\n"
          ]
        }
      ]
    },
    {
      "cell_type": "code",
      "source": [],
      "metadata": {
        "id": "iA0aaNfiVohY"
      },
      "execution_count": null,
      "outputs": []
    }
  ]
}