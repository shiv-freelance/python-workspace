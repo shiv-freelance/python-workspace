{
  "nbformat": 4,
  "nbformat_minor": 0,
  "metadata": {
    "colab": {
      "provenance": []
    },
    "kernelspec": {
      "name": "python3",
      "display_name": "Python 3"
    },
    "language_info": {
      "name": "python"
    }
  },
  "cells": [
    {
      "cell_type": "code",
      "execution_count": null,
      "metadata": {
        "id": "dC_oBxC1pAaz"
      },
      "outputs": [],
      "source": [
        "# DRY - Don't Repeat Yourself.\n",
        "# functions: a task to be performed repeatedly (multiple no.of times) will use it as functions\n",
        "# syntax:\n",
        "def function_name(params): # snake_case\n",
        "  pass"
      ]
    },
    {
      "cell_type": "code",
      "source": [
        "def add(a, b): # until you call the function, that function will never get execute.\n",
        "  print(a+b)"
      ],
      "metadata": {
        "id": "DYD5I4FyuWXo"
      },
      "execution_count": 1,
      "outputs": []
    },
    {
      "cell_type": "code",
      "source": [
        "add(10, 40)"
      ],
      "metadata": {
        "colab": {
          "base_uri": "https://localhost:8080/"
        },
        "id": "sUOZd4qJuefa",
        "outputId": "3e1d9a4d-227b-46b2-ad62-f30773f82084"
      },
      "execution_count": 2,
      "outputs": [
        {
          "output_type": "stream",
          "name": "stdout",
          "text": [
            "50\n"
          ]
        }
      ]
    },
    {
      "cell_type": "code",
      "source": [
        "add(100, 200)"
      ],
      "metadata": {
        "colab": {
          "base_uri": "https://localhost:8080/"
        },
        "id": "PxqaKmZWutlj",
        "outputId": "21675366-2934-4eb9-afb4-4b0f4d317c9f"
      },
      "execution_count": 3,
      "outputs": [
        {
          "output_type": "stream",
          "name": "stdout",
          "text": [
            "300\n"
          ]
        }
      ]
    },
    {
      "cell_type": "code",
      "source": [
        "words = ['apple', 'bat', 'cat', 'dog', 'elephant']\n",
        "# vowels = a, e, i, o, u\n",
        "# result = ['apple', 'elephant']"
      ],
      "metadata": {
        "id": "voYvS6UEuvZP"
      },
      "execution_count": 5,
      "outputs": []
    },
    {
      "cell_type": "code",
      "source": [
        "def is_vowel(word):\n",
        "  vowels = \"aeiou\"\n",
        "  for char in vowels:\n",
        "    if word.startswith(char):\n",
        "      print(word)"
      ],
      "metadata": {
        "id": "i0xAClQ7vYfd"
      },
      "execution_count": 10,
      "outputs": []
    },
    {
      "cell_type": "code",
      "source": [
        "# function call\n",
        "is_vowel()"
      ],
      "metadata": {
        "colab": {
          "base_uri": "https://localhost:8080/",
          "height": 158
        },
        "id": "c_oVjERqvnwu",
        "outputId": "a9149199-6aff-48d4-9c54-bb19dfae410e"
      },
      "execution_count": 7,
      "outputs": [
        {
          "output_type": "error",
          "ename": "TypeError",
          "evalue": "is_vowel() missing 1 required positional argument: 'word'",
          "traceback": [
            "\u001b[0;31m---------------------------------------------------------------------------\u001b[0m",
            "\u001b[0;31mTypeError\u001b[0m                                 Traceback (most recent call last)",
            "\u001b[0;32m<ipython-input-7-840c8518a025>\u001b[0m in \u001b[0;36m<cell line: 2>\u001b[0;34m()\u001b[0m\n\u001b[1;32m      1\u001b[0m \u001b[0;31m# function call\u001b[0m\u001b[0;34m\u001b[0m\u001b[0;34m\u001b[0m\u001b[0m\n\u001b[0;32m----> 2\u001b[0;31m \u001b[0mis_vowel\u001b[0m\u001b[0;34m(\u001b[0m\u001b[0;34m)\u001b[0m\u001b[0;34m\u001b[0m\u001b[0;34m\u001b[0m\u001b[0m\n\u001b[0m",
            "\u001b[0;31mTypeError\u001b[0m: is_vowel() missing 1 required positional argument: 'word'"
          ]
        }
      ]
    },
    {
      "cell_type": "code",
      "source": [
        "def is_vowel(word):\n",
        "  vowels = \"aeiou\"\n",
        "  for char in vowels:\n",
        "    if word.startswith(char):\n",
        "      print(word)\n",
        "\n",
        "result = []\n",
        "for word in words:\n",
        "  is_vowel(word)"
      ],
      "metadata": {
        "colab": {
          "base_uri": "https://localhost:8080/"
        },
        "id": "xZJBYfdrvxsm",
        "outputId": "b06325a5-67cd-4783-a282-81eee68d37dc"
      },
      "execution_count": 13,
      "outputs": [
        {
          "output_type": "stream",
          "name": "stdout",
          "text": [
            "apple\n",
            "elephant\n"
          ]
        }
      ]
    },
    {
      "cell_type": "code",
      "source": [
        "# optimizied code\n",
        "def is_vowel(word: str):\n",
        "  vowels = \"aeiou\"\n",
        "  for char in vowels:\n",
        "    if word.startswith(char):\n",
        "      return True\n",
        "  return False\n",
        "\n",
        "# result = [word for word in words if is_vowel(word)]\n",
        "# result\n",
        "for word in words:\n",
        "  print(word, is_vowel(word))"
      ],
      "metadata": {
        "colab": {
          "base_uri": "https://localhost:8080/"
        },
        "id": "sCDXWlxgv5ZI",
        "outputId": "ef08a118-3b32-4c5c-aa51-84d50e3a0a0a"
      },
      "execution_count": 23,
      "outputs": [
        {
          "output_type": "stream",
          "name": "stdout",
          "text": [
            "apple True\n",
            "bat False\n",
            "cat False\n",
            "dog False\n",
            "elephant True\n"
          ]
        }
      ]
    },
    {
      "cell_type": "code",
      "source": [
        "def test():\n",
        "  a = 10\n",
        "  b = 20"
      ],
      "metadata": {
        "id": "TTIqgW5qyS6a"
      },
      "execution_count": 18,
      "outputs": []
    },
    {
      "cell_type": "code",
      "source": [
        "print(test())"
      ],
      "metadata": {
        "colab": {
          "base_uri": "https://localhost:8080/"
        },
        "id": "mYAqWVIkylyY",
        "outputId": "735e362f-17c7-4450-be7d-b04c4da18aa3"
      },
      "execution_count": 19,
      "outputs": [
        {
          "output_type": "stream",
          "name": "stdout",
          "text": [
            "None\n"
          ]
        }
      ]
    },
    {
      "cell_type": "code",
      "source": [],
      "metadata": {
        "id": "8FRDD7giynXo"
      },
      "execution_count": null,
      "outputs": []
    }
  ]
}