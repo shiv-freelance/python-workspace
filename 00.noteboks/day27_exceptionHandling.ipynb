{
  "nbformat": 4,
  "nbformat_minor": 0,
  "metadata": {
    "colab": {
      "provenance": []
    },
    "kernelspec": {
      "name": "python3",
      "display_name": "Python 3"
    },
    "language_info": {
      "name": "python"
    }
  },
  "cells": [
    {
      "cell_type": "code",
      "execution_count": 1,
      "metadata": {
        "colab": {
          "base_uri": "https://localhost:8080/",
          "height": 106
        },
        "id": "SPSpLz4owLc1",
        "outputId": "93c72e16-d3be-4b9c-f48d-6871303bcb5c"
      },
      "outputs": [
        {
          "output_type": "error",
          "ename": "SyntaxError",
          "evalue": "expected ':' (<ipython-input-1-e43b969e65f9>, line 6)",
          "traceback": [
            "\u001b[0;36m  File \u001b[0;32m\"<ipython-input-1-e43b969e65f9>\"\u001b[0;36m, line \u001b[0;32m6\u001b[0m\n\u001b[0;31m    def add()\u001b[0m\n\u001b[0m             ^\u001b[0m\n\u001b[0;31mSyntaxError\u001b[0m\u001b[0;31m:\u001b[0m expected ':'\n"
          ]
        }
      ],
      "source": [
        "# in programming languages we faces 2 kind of iterptions\n",
        "# 1. errors  - syntax errors\n",
        "# 2. exceptions - which can be handled\n",
        "\n",
        "# errors\n",
        "def add()\n",
        "  print('add function')\n"
      ]
    },
    {
      "cell_type": "code",
      "source": [
        "# exception\n",
        "\"Rama\"[3]"
      ],
      "metadata": {
        "colab": {
          "base_uri": "https://localhost:8080/",
          "height": 36
        },
        "id": "wMlgDQTFw5ct",
        "outputId": "cbe98a9a-42e2-4be5-9090-6f697cc98477"
      },
      "execution_count": 2,
      "outputs": [
        {
          "output_type": "execute_result",
          "data": {
            "text/plain": [
              "'a'"
            ],
            "application/vnd.google.colaboratory.intrinsic+json": {
              "type": "string"
            }
          },
          "metadata": {},
          "execution_count": 2
        }
      ]
    },
    {
      "cell_type": "code",
      "source": [
        "\"Rama\"[5]"
      ],
      "metadata": {
        "colab": {
          "base_uri": "https://localhost:8080/",
          "height": 141
        },
        "id": "LLfAOKyRxLKo",
        "outputId": "767fb20a-d485-415f-cd34-f0c6bbf13da0"
      },
      "execution_count": 3,
      "outputs": [
        {
          "output_type": "error",
          "ename": "IndexError",
          "evalue": "string index out of range",
          "traceback": [
            "\u001b[0;31m---------------------------------------------------------------------------\u001b[0m",
            "\u001b[0;31mIndexError\u001b[0m                                Traceback (most recent call last)",
            "\u001b[0;32m<ipython-input-3-45ca121d5bc2>\u001b[0m in \u001b[0;36m<cell line: 1>\u001b[0;34m()\u001b[0m\n\u001b[0;32m----> 1\u001b[0;31m \u001b[0;34m\"Rama\"\u001b[0m\u001b[0;34m[\u001b[0m\u001b[0;36m5\u001b[0m\u001b[0;34m]\u001b[0m\u001b[0;34m\u001b[0m\u001b[0;34m\u001b[0m\u001b[0m\n\u001b[0m",
            "\u001b[0;31mIndexError\u001b[0m: string index out of range"
          ]
        }
      ]
    },
    {
      "cell_type": "code",
      "source": [
        "try: # any piece of code, will raise an exception put it in try block\n",
        "  print('i am a try block')\n",
        "  \"Rama\"[5]\n",
        "except IndexError: # exceptions are handled in except block\n",
        "  print('got exception')\n",
        "\n",
        "print('after try-except block')"
      ],
      "metadata": {
        "colab": {
          "base_uri": "https://localhost:8080/"
        },
        "id": "QkGOUhyBxPtm",
        "outputId": "2a708359-4128-46a3-d1bc-b3a3ddbedd79"
      },
      "execution_count": 5,
      "outputs": [
        {
          "output_type": "stream",
          "name": "stdout",
          "text": [
            "i am a try block\n",
            "got exception\n",
            "after try-except block\n"
          ]
        }
      ]
    },
    {
      "cell_type": "code",
      "source": [
        "10/0"
      ],
      "metadata": {
        "colab": {
          "base_uri": "https://localhost:8080/",
          "height": 141
        },
        "id": "_6B2dO3Lxseu",
        "outputId": "575987fe-0697-46a0-81fb-c6973c5ae06d"
      },
      "execution_count": 6,
      "outputs": [
        {
          "output_type": "error",
          "ename": "ZeroDivisionError",
          "evalue": "division by zero",
          "traceback": [
            "\u001b[0;31m---------------------------------------------------------------------------\u001b[0m",
            "\u001b[0;31mZeroDivisionError\u001b[0m                         Traceback (most recent call last)",
            "\u001b[0;32m<ipython-input-6-e574edb36883>\u001b[0m in \u001b[0;36m<cell line: 1>\u001b[0;34m()\u001b[0m\n\u001b[0;32m----> 1\u001b[0;31m \u001b[0;36m10\u001b[0m\u001b[0;34m/\u001b[0m\u001b[0;36m0\u001b[0m\u001b[0;34m\u001b[0m\u001b[0;34m\u001b[0m\u001b[0m\n\u001b[0m",
            "\u001b[0;31mZeroDivisionError\u001b[0m: division by zero"
          ]
        }
      ]
    },
    {
      "cell_type": "code",
      "source": [
        "try:\n",
        "  10/0\n",
        "except ZeroDivisionError:\n",
        "  print('while dividing with zero you got ZeroDivisionError')"
      ],
      "metadata": {
        "colab": {
          "base_uri": "https://localhost:8080/"
        },
        "id": "LcCuujitynYQ",
        "outputId": "1fc8819d-83cf-4fb3-db73-583cabee9957"
      },
      "execution_count": 7,
      "outputs": [
        {
          "output_type": "stream",
          "name": "stdout",
          "text": [
            "while dividing with zero you got ZeroDivisionError\n"
          ]
        }
      ]
    },
    {
      "cell_type": "code",
      "source": [
        "try:\n",
        "  print(10/56756)\n",
        "except ZeroDivisionError:\n",
        "  print('while dividing with zero you got ZeroDivisionError')\n",
        "\n",
        "# if any exception occurs in try block then only your except block will get execute\n",
        "# if no exception occurs in try block, your except block will not get execute"
      ],
      "metadata": {
        "colab": {
          "base_uri": "https://localhost:8080/"
        },
        "id": "q3q5SQ9cy3cw",
        "outputId": "55c9de92-60f2-4b26-e8de-5ea0e78a8bfa"
      },
      "execution_count": 8,
      "outputs": [
        {
          "output_type": "stream",
          "name": "stdout",
          "text": [
            "0.00017619282542814856\n"
          ]
        }
      ]
    },
    {
      "cell_type": "code",
      "source": [
        "# with out try-except\n",
        "print(\"before exception\")\n",
        "\n",
        "try:\n",
        "  print(5/0)\n",
        "except ZeroDivisionError:\n",
        "  print('while dividing with zero you got ZeroDivisionError')\n",
        "\n",
        "print(\"after exception\")"
      ],
      "metadata": {
        "colab": {
          "base_uri": "https://localhost:8080/"
        },
        "id": "LdbIDvnBzGrs",
        "outputId": "3fc0ea41-d25f-449c-bde0-fae843bd23a1"
      },
      "execution_count": 10,
      "outputs": [
        {
          "output_type": "stream",
          "name": "stdout",
          "text": [
            "before exception\n",
            "while dividing with zero you got ZeroDivisionError\n",
            "after exception\n"
          ]
        }
      ]
    },
    {
      "cell_type": "code",
      "source": [
        "persons = {\n",
        "    \"name\": \"Hanuman\",\n",
        "    \"age\": 24\n",
        "}"
      ],
      "metadata": {
        "id": "14utiPvqzpy_"
      },
      "execution_count": 11,
      "outputs": []
    },
    {
      "cell_type": "code",
      "source": [
        "persons['name']"
      ],
      "metadata": {
        "colab": {
          "base_uri": "https://localhost:8080/",
          "height": 36
        },
        "id": "McAyGtal0A5N",
        "outputId": "2040615f-3fe1-4b36-8385-8abc1d3013fc"
      },
      "execution_count": 12,
      "outputs": [
        {
          "output_type": "execute_result",
          "data": {
            "text/plain": [
              "'Hanuman'"
            ],
            "application/vnd.google.colaboratory.intrinsic+json": {
              "type": "string"
            }
          },
          "metadata": {},
          "execution_count": 12
        }
      ]
    },
    {
      "cell_type": "code",
      "source": [
        "persons['nmae']"
      ],
      "metadata": {
        "colab": {
          "base_uri": "https://localhost:8080/",
          "height": 141
        },
        "id": "Bp_ZAdTt0N2t",
        "outputId": "b14542e5-6d6f-44a8-da17-395f93bcfc6d"
      },
      "execution_count": 13,
      "outputs": [
        {
          "output_type": "error",
          "ename": "KeyError",
          "evalue": "'nmae'",
          "traceback": [
            "\u001b[0;31m---------------------------------------------------------------------------\u001b[0m",
            "\u001b[0;31mKeyError\u001b[0m                                  Traceback (most recent call last)",
            "\u001b[0;32m<ipython-input-13-2304900bfa2d>\u001b[0m in \u001b[0;36m<cell line: 1>\u001b[0;34m()\u001b[0m\n\u001b[0;32m----> 1\u001b[0;31m \u001b[0mpersons\u001b[0m\u001b[0;34m[\u001b[0m\u001b[0;34m'nmae'\u001b[0m\u001b[0;34m]\u001b[0m\u001b[0;34m\u001b[0m\u001b[0;34m\u001b[0m\u001b[0m\n\u001b[0m",
            "\u001b[0;31mKeyError\u001b[0m: 'nmae'"
          ]
        }
      ]
    },
    {
      "cell_type": "code",
      "source": [
        "try:\n",
        "  persons['nmae']\n",
        "except KeyError:\n",
        "  print('got key error')"
      ],
      "metadata": {
        "colab": {
          "base_uri": "https://localhost:8080/"
        },
        "id": "GPg5lDpU0Vnz",
        "outputId": "9ba5df11-db3b-4f7b-c2a4-4c2f4b1ccecd"
      },
      "execution_count": 15,
      "outputs": [
        {
          "output_type": "stream",
          "name": "stdout",
          "text": [
            "got key error\n"
          ]
        }
      ]
    },
    {
      "cell_type": "code",
      "source": [
        "try:\n",
        "  print(1/0)\n",
        "  print(persons['name'])\n",
        "except Exception:\n",
        "  print('got exception')\n",
        "\n",
        "print('outside of try block')"
      ],
      "metadata": {
        "colab": {
          "base_uri": "https://localhost:8080/"
        },
        "id": "3Bx0fWvL0dFF",
        "outputId": "b906a79f-279c-4cd8-f521-b15d43b5aeca"
      },
      "execution_count": 17,
      "outputs": [
        {
          "output_type": "stream",
          "name": "stdout",
          "text": [
            "got exception\n",
            "outside of try block\n"
          ]
        }
      ]
    },
    {
      "cell_type": "code",
      "source": [
        "try:\n",
        "  print(1//1)\n",
        "  print(persons['name'])\n",
        "except Exception:\n",
        "  print('got exception')\n",
        "\n",
        "print('outside of try block')"
      ],
      "metadata": {
        "colab": {
          "base_uri": "https://localhost:8080/"
        },
        "id": "Q5LxHOXO1hE9",
        "outputId": "5fc49c18-a572-4b6d-f290-f295bd5c66ff"
      },
      "execution_count": 19,
      "outputs": [
        {
          "output_type": "stream",
          "name": "stdout",
          "text": [
            "1\n",
            "Hanuman\n",
            "outside of try block\n"
          ]
        }
      ]
    },
    {
      "cell_type": "code",
      "source": [
        "num = int(input('enter your input: '))\n",
        "num"
      ],
      "metadata": {
        "colab": {
          "base_uri": "https://localhost:8080/",
          "height": 176
        },
        "id": "H3P_HUvH15kP",
        "outputId": "f81fdab3-4614-4a1c-f401-7cf66ea6df96"
      },
      "execution_count": 21,
      "outputs": [
        {
          "name": "stdout",
          "output_type": "stream",
          "text": [
            "enter your input: seventy eight\n"
          ]
        },
        {
          "output_type": "error",
          "ename": "ValueError",
          "evalue": "invalid literal for int() with base 10: 'seventy eight'",
          "traceback": [
            "\u001b[0;31m---------------------------------------------------------------------------\u001b[0m",
            "\u001b[0;31mValueError\u001b[0m                                Traceback (most recent call last)",
            "\u001b[0;32m<ipython-input-21-da074be209ff>\u001b[0m in \u001b[0;36m<cell line: 1>\u001b[0;34m()\u001b[0m\n\u001b[0;32m----> 1\u001b[0;31m \u001b[0mnum\u001b[0m \u001b[0;34m=\u001b[0m \u001b[0mint\u001b[0m\u001b[0;34m(\u001b[0m\u001b[0minput\u001b[0m\u001b[0;34m(\u001b[0m\u001b[0;34m'enter your input: '\u001b[0m\u001b[0;34m)\u001b[0m\u001b[0;34m)\u001b[0m\u001b[0;34m\u001b[0m\u001b[0;34m\u001b[0m\u001b[0m\n\u001b[0m\u001b[1;32m      2\u001b[0m \u001b[0mnum\u001b[0m\u001b[0;34m\u001b[0m\u001b[0;34m\u001b[0m\u001b[0m\n",
            "\u001b[0;31mValueError\u001b[0m: invalid literal for int() with base 10: 'seventy eight'"
          ]
        }
      ]
    },
    {
      "cell_type": "code",
      "source": [
        "try:\n",
        "  num = int(input('enter your input: '))\n",
        "  num\n",
        "except Exception:\n",
        "  print('got error while taking input from user')"
      ],
      "metadata": {
        "colab": {
          "base_uri": "https://localhost:8080/"
        },
        "id": "MDpUXrOA2iWn",
        "outputId": "537b804b-d856-47f3-82a9-38c421a62e72"
      },
      "execution_count": 22,
      "outputs": [
        {
          "output_type": "stream",
          "name": "stdout",
          "text": [
            "enter your input: eight\n",
            "got error while taking input from user\n"
          ]
        }
      ]
    },
    {
      "cell_type": "code",
      "source": [
        "try:\n",
        "  num = int(input('enter your input: '))\n",
        "  num\n",
        "except: #default block\n",
        "  print('got error while taking input from user')"
      ],
      "metadata": {
        "colab": {
          "base_uri": "https://localhost:8080/"
        },
        "id": "LmJ9QbHl2z0x",
        "outputId": "0cd9efc6-96c8-4691-a68b-82c545bb1906"
      },
      "execution_count": 23,
      "outputs": [
        {
          "output_type": "stream",
          "name": "stdout",
          "text": [
            "enter your input: jerh\n",
            "got error while taking input from user\n"
          ]
        }
      ]
    },
    {
      "cell_type": "code",
      "source": [
        "try:\n",
        "  10/0\n",
        "except ZeroDivisionError:\n",
        "  print('got zero divison error')"
      ],
      "metadata": {
        "colab": {
          "base_uri": "https://localhost:8080/"
        },
        "id": "b-3o2Epp3GYK",
        "outputId": "21d623f4-8af8-4683-8d7e-6f18299d4a08"
      },
      "execution_count": 24,
      "outputs": [
        {
          "output_type": "stream",
          "name": "stdout",
          "text": [
            "got zero divison error\n"
          ]
        }
      ]
    },
    {
      "cell_type": "code",
      "source": [
        "# a single try block with mutlitple except block\n",
        "try:\n",
        "  print(1/1)\n",
        "  print(persons['nme']) # key error\n",
        "except ZeroDivisionError:\n",
        "  print('got zero divison error')\n",
        "except KeyError:\n",
        "  print(\"key error except\")\n",
        "except IndexError:\n",
        "  print('index error')\n",
        "\n",
        "print('outside of try block')"
      ],
      "metadata": {
        "colab": {
          "base_uri": "https://localhost:8080/"
        },
        "id": "32tAeL2x3bIU",
        "outputId": "54b16c68-eab4-4e60-da9b-c2c03bb8bb7e"
      },
      "execution_count": 27,
      "outputs": [
        {
          "output_type": "stream",
          "name": "stdout",
          "text": [
            "1.0\n",
            "key error except\n",
            "outside of try block\n"
          ]
        }
      ]
    },
    {
      "cell_type": "code",
      "source": [
        "try:\n",
        "  print(1/1) # 1.0\n",
        "  print(persons['nme']) # key error\n",
        "except(ZeroDivisionError, KeyError, IndexError):\n",
        "  print('this except block will handle above 3 exception')"
      ],
      "metadata": {
        "colab": {
          "base_uri": "https://localhost:8080/"
        },
        "id": "e4MwQyf34dTR",
        "outputId": "17a4a05f-94e2-4735-b522-0dd5e5b6e7fb"
      },
      "execution_count": 28,
      "outputs": [
        {
          "output_type": "stream",
          "name": "stdout",
          "text": [
            "1.0\n",
            "this except block will handle above 3 exception\n"
          ]
        }
      ]
    },
    {
      "cell_type": "code",
      "source": [
        "try: # a single try block will not exist\n",
        "  print(1/1) # 1.0\n",
        "  print(persons['nme']) # key error"
      ],
      "metadata": {
        "colab": {
          "base_uri": "https://localhost:8080/",
          "height": 106
        },
        "id": "FDLu9zkj5tID",
        "outputId": "fe463971-36f1-43a8-ba06-2439c055668f"
      },
      "execution_count": 29,
      "outputs": [
        {
          "output_type": "error",
          "ename": "SyntaxError",
          "evalue": "incomplete input (<ipython-input-29-2a5d1784a301>, line 3)",
          "traceback": [
            "\u001b[0;36m  File \u001b[0;32m\"<ipython-input-29-2a5d1784a301>\"\u001b[0;36m, line \u001b[0;32m3\u001b[0m\n\u001b[0;31m    print(persons['nme']) # key error\u001b[0m\n\u001b[0m                                     ^\u001b[0m\n\u001b[0;31mSyntaxError\u001b[0m\u001b[0;31m:\u001b[0m incomplete input\n"
          ]
        }
      ]
    },
    {
      "cell_type": "code",
      "source": [
        "try:\n",
        "  print(1/1) # 1.0\n",
        "  print(persons['nme']) # key error\n",
        "except:\n",
        "  pass"
      ],
      "metadata": {
        "colab": {
          "base_uri": "https://localhost:8080/"
        },
        "id": "liB0JApt57BS",
        "outputId": "ec4d5ab1-61ef-4e5b-f644-9ded5a422f6c"
      },
      "execution_count": 30,
      "outputs": [
        {
          "output_type": "stream",
          "name": "stdout",
          "text": [
            "1.0\n"
          ]
        }
      ]
    },
    {
      "cell_type": "code",
      "source": [],
      "metadata": {
        "id": "PzW4Inrb6CiV"
      },
      "execution_count": null,
      "outputs": []
    },
    {
      "cell_type": "markdown",
      "source": [
        "\n",
        "\n",
        "```\n",
        "# This is formatted as code\n",
        "try:\n",
        "  statement-1\n",
        "  statement-2\n",
        "  statement-3\n",
        "except:\n",
        "  print('except block')\n",
        "```\n",
        "\n",
        "while executing the statement-1 got exception --> statement-2, statement-3 will not get execute control comes to except  block\n",
        "\n",
        "\n",
        "while executing the statement-2 got exception --> statement-1 already executed, statement-3 will not get execute control comes to except  block\n",
        "\n",
        "\n",
        "\n",
        "```\n",
        "# This is formatted as code\n",
        "try:\n",
        "\n",
        "except:\n",
        "\n",
        "else:\n",
        "\n",
        "finally:\n",
        "```\n",
        "\n",
        "\n",
        "\n",
        "\n",
        "\n"
      ],
      "metadata": {
        "id": "O-2M8nwq6L32"
      }
    }
  ]
}