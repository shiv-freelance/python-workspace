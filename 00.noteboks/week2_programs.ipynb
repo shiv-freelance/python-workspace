{
  "nbformat": 4,
  "nbformat_minor": 0,
  "metadata": {
    "colab": {
      "provenance": []
    },
    "kernelspec": {
      "name": "python3",
      "display_name": "Python 3"
    },
    "language_info": {
      "name": "python"
    }
  },
  "cells": [
    {
      "cell_type": "code",
      "execution_count": 1,
      "metadata": {
        "colab": {
          "base_uri": "https://localhost:8080/"
        },
        "id": "T4lZTZkDMwx5",
        "outputId": "5c57160a-c800-4daf-f270-ab0bed98830b"
      },
      "outputs": [
        {
          "output_type": "stream",
          "name": "stdout",
          "text": [
            "{'apple': 5, 'banana': 6, 'eat': 3, 'cat': 3, 'bear': 4, 'doll': 4}\n"
          ]
        }
      ],
      "source": [
        "words = ['apple', 'banana', 'eat', 'cat', 'bear', 'doll']\n",
        "# result = {word: len}\n",
        "\n",
        "result = {}\n",
        "for word in words:\n",
        "  result[word] = len(word)\n",
        "\n",
        "print(result)"
      ]
    },
    {
      "cell_type": "code",
      "source": [
        "chars = ['a', 'b', 'd', 'a', 'e', 'b', 'z']\n",
        "# output = {'a': 2, 'b': 2: 'd': 1, 'e': 1, 'z': 1}"
      ],
      "metadata": {
        "id": "wRKTjLURTEPJ"
      },
      "execution_count": 2,
      "outputs": []
    },
    {
      "cell_type": "code",
      "source": [
        "# approach-1\n",
        "unique_chars = set(chars)\n",
        "result = {}\n",
        "for char in unique_chars:\n",
        "  result[char] = chars.count(char)\n",
        "\n",
        "print(result)"
      ],
      "metadata": {
        "colab": {
          "base_uri": "https://localhost:8080/"
        },
        "id": "WByxSfHKT7cE",
        "outputId": "5638b579-2eb2-406e-871f-40ee2f37aabd"
      },
      "execution_count": 4,
      "outputs": [
        {
          "output_type": "stream",
          "name": "stdout",
          "text": [
            "{'d': 1, 'a': 2, 'z': 1, 'e': 1, 'b': 2}\n"
          ]
        }
      ]
    },
    {
      "cell_type": "code",
      "source": [
        "# approach -2\n",
        "\n",
        "from collections import Counter\n",
        "\n",
        "print(Counter(chars))"
      ],
      "metadata": {
        "colab": {
          "base_uri": "https://localhost:8080/"
        },
        "id": "LZMWLd7mUauA",
        "outputId": "33279df1-2cf9-4272-d028-41eff1ff2535"
      },
      "execution_count": 5,
      "outputs": [
        {
          "output_type": "stream",
          "name": "stdout",
          "text": [
            "Counter({'a': 2, 'b': 2, 'd': 1, 'e': 1, 'z': 1})\n"
          ]
        }
      ]
    },
    {
      "cell_type": "code",
      "source": [
        "# approach -3\n",
        "output = {}\n",
        "for char in chars:\n",
        "  if char in output:\n",
        "    output[char] = output[char] + 1\n",
        "  else:\n",
        "    output[char] = 1\n",
        "\n",
        "print(output)"
      ],
      "metadata": {
        "colab": {
          "base_uri": "https://localhost:8080/"
        },
        "id": "NFrhOC_kXSaJ",
        "outputId": "e0675c11-8030-4883-d066-333d7f0e9fe4"
      },
      "execution_count": 9,
      "outputs": [
        {
          "output_type": "stream",
          "name": "stdout",
          "text": [
            "{'a': 2, 'b': 2, 'd': 1, 'e': 1, 'z': 1}\n"
          ]
        }
      ]
    },
    {
      "cell_type": "code",
      "source": [
        "Counter(\"eijgo3ijojgoerqoijgoerj\")"
      ],
      "metadata": {
        "colab": {
          "base_uri": "https://localhost:8080/"
        },
        "id": "HM-6w___WNoo",
        "outputId": "a10b0c57-a3e1-4216-b802-0419f9bab388"
      },
      "execution_count": 6,
      "outputs": [
        {
          "output_type": "execute_result",
          "data": {
            "text/plain": [
              "Counter({'e': 3, 'i': 3, 'j': 5, 'g': 3, 'o': 5, '3': 1, 'r': 2, 'q': 1})"
            ]
          },
          "metadata": {},
          "execution_count": 6
        }
      ]
    },
    {
      "cell_type": "code",
      "source": [
        "words = ['apple', 'bat', 'dog', 'aeroplane', 'eat', 'badge', 'zero']\n",
        "\n",
        "for word in words:\n",
        "  if word.startswith('a'):\n",
        "    print(word)"
      ],
      "metadata": {
        "colab": {
          "base_uri": "https://localhost:8080/"
        },
        "id": "CnSXV8U-WZV3",
        "outputId": "24a67fb8-71f9-43dd-e3ec-d186c0a300bf"
      },
      "execution_count": 7,
      "outputs": [
        {
          "output_type": "stream",
          "name": "stdout",
          "text": [
            "apple\n",
            "aeroplane\n"
          ]
        }
      ]
    },
    {
      "cell_type": "code",
      "source": [
        "x_y_z = 1,000,000\n",
        "x_y_z # (1, 0, 0)"
      ],
      "metadata": {
        "colab": {
          "base_uri": "https://localhost:8080/"
        },
        "id": "y_KN1pRxXA_Q",
        "outputId": "cff9a94c-3e86-4aa3-cb69-c3aff1acbfb1"
      },
      "execution_count": 10,
      "outputs": [
        {
          "output_type": "execute_result",
          "data": {
            "text/plain": [
              "(1, 0, 0)"
            ]
          },
          "metadata": {},
          "execution_count": 10
        }
      ]
    },
    {
      "cell_type": "code",
      "source": [
        "a = b = c = 100\n",
        "print(a, b, c)"
      ],
      "metadata": {
        "colab": {
          "base_uri": "https://localhost:8080/"
        },
        "id": "zqeA8rA9YORt",
        "outputId": "b5528103-a3d2-47e7-d2c1-cb735061830c"
      },
      "execution_count": 11,
      "outputs": [
        {
          "output_type": "stream",
          "name": "stdout",
          "text": [
            "100 100 100\n"
          ]
        }
      ]
    },
    {
      "cell_type": "code",
      "source": [
        "a, b, c = 100, 200, 300\n",
        "print(a, b, c)"
      ],
      "metadata": {
        "colab": {
          "base_uri": "https://localhost:8080/"
        },
        "id": "XpBf-FpiYa-t",
        "outputId": "3a4c4261-9609-4003-f506-debbdfd7ba56"
      },
      "execution_count": 12,
      "outputs": [
        {
          "output_type": "stream",
          "name": "stdout",
          "text": [
            "100 200 300\n"
          ]
        }
      ]
    },
    {
      "cell_type": "code",
      "source": [
        "a, b, c = 100, 200, 300, 400\n",
        "print(a, b, c)"
      ],
      "metadata": {
        "colab": {
          "base_uri": "https://localhost:8080/",
          "height": 158
        },
        "id": "n1VX6nIqYiTr",
        "outputId": "64fea90d-4115-4e88-8cc7-c1c7fc486d26"
      },
      "execution_count": 13,
      "outputs": [
        {
          "output_type": "error",
          "ename": "ValueError",
          "evalue": "too many values to unpack (expected 3)",
          "traceback": [
            "\u001b[0;31m---------------------------------------------------------------------------\u001b[0m",
            "\u001b[0;31mValueError\u001b[0m                                Traceback (most recent call last)",
            "\u001b[0;32m<ipython-input-13-c588a71c019e>\u001b[0m in \u001b[0;36m<cell line: 1>\u001b[0;34m()\u001b[0m\n\u001b[0;32m----> 1\u001b[0;31m \u001b[0ma\u001b[0m\u001b[0;34m,\u001b[0m \u001b[0mb\u001b[0m\u001b[0;34m,\u001b[0m \u001b[0mc\u001b[0m \u001b[0;34m=\u001b[0m \u001b[0;36m100\u001b[0m\u001b[0;34m,\u001b[0m \u001b[0;36m200\u001b[0m\u001b[0;34m,\u001b[0m \u001b[0;36m300\u001b[0m\u001b[0;34m,\u001b[0m \u001b[0;36m400\u001b[0m\u001b[0;34m\u001b[0m\u001b[0;34m\u001b[0m\u001b[0m\n\u001b[0m\u001b[1;32m      2\u001b[0m \u001b[0mprint\u001b[0m\u001b[0;34m(\u001b[0m\u001b[0ma\u001b[0m\u001b[0;34m,\u001b[0m \u001b[0mb\u001b[0m\u001b[0;34m,\u001b[0m \u001b[0mc\u001b[0m\u001b[0;34m)\u001b[0m\u001b[0;34m\u001b[0m\u001b[0;34m\u001b[0m\u001b[0m\n",
            "\u001b[0;31mValueError\u001b[0m: too many values to unpack (expected 3)"
          ]
        }
      ]
    },
    {
      "cell_type": "code",
      "source": [],
      "metadata": {
        "id": "6UWv8yiBYm8l"
      },
      "execution_count": null,
      "outputs": []
    }
  ]
}