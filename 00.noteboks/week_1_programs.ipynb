{
  "nbformat": 4,
  "nbformat_minor": 0,
  "metadata": {
    "colab": {
      "provenance": []
    },
    "kernelspec": {
      "name": "python3",
      "display_name": "Python 3"
    },
    "language_info": {
      "name": "python"
    }
  },
  "cells": [
    {
      "cell_type": "code",
      "execution_count": 1,
      "metadata": {
        "id": "HRIM1ymeRwCK"
      },
      "outputs": [],
      "source": [
        "string = \"123(hello)89A1D\"\n",
        "# output = \"helloAD\""
      ]
    },
    {
      "cell_type": "code",
      "source": [
        "# 1st approach\n",
        "result = \"\"\n",
        "for i in string:\n",
        "  if i.isalpha():\n",
        "    result = result + i\n",
        "\n",
        "print(result)"
      ],
      "metadata": {
        "colab": {
          "base_uri": "https://localhost:8080/"
        },
        "id": "G-adlbqqR2eb",
        "outputId": "23905bc1-da87-44e7-aefd-4285fe179afa"
      },
      "execution_count": 3,
      "outputs": [
        {
          "output_type": "stream",
          "name": "stdout",
          "text": [
            "helloAD\n"
          ]
        }
      ]
    },
    {
      "cell_type": "code",
      "source": [
        "# 2nd approach\n",
        "result = []\n",
        "for i in string:\n",
        "  if i.isalpha():\n",
        "    result.append(i)\n",
        "\n",
        "print(''.join(result))"
      ],
      "metadata": {
        "colab": {
          "base_uri": "https://localhost:8080/"
        },
        "id": "z2QV9IaBR3qA",
        "outputId": "76b56221-c5a7-42a3-e234-29e72919522c"
      },
      "execution_count": 5,
      "outputs": [
        {
          "output_type": "stream",
          "name": "stdout",
          "text": [
            "helloAD\n"
          ]
        }
      ]
    },
    {
      "cell_type": "code",
      "source": [
        "num = 15\n",
        "if num % 2 == 0:\n",
        "  print(f'{num} even numer')\n",
        "else:\n",
        "  print(f'{num} odd numer')"
      ],
      "metadata": {
        "colab": {
          "base_uri": "https://localhost:8080/"
        },
        "id": "uDB4dN8WSB7M",
        "outputId": "d983e46b-4eae-4dbe-ce3a-b99f557ca28a"
      },
      "execution_count": 9,
      "outputs": [
        {
          "output_type": "stream",
          "name": "stdout",
          "text": [
            "15 odd numer\n"
          ]
        }
      ]
    },
    {
      "cell_type": "code",
      "source": [
        "string"
      ],
      "metadata": {
        "colab": {
          "base_uri": "https://localhost:8080/",
          "height": 35
        },
        "id": "Hp5Z9beXScpp",
        "outputId": "75cb95b1-15c9-432a-d2e4-d52e9fb63ff3"
      },
      "execution_count": 10,
      "outputs": [
        {
          "output_type": "execute_result",
          "data": {
            "text/plain": [
              "'123(hello)89A1D'"
            ],
            "application/vnd.google.colaboratory.intrinsic+json": {
              "type": "string"
            }
          },
          "metadata": {},
          "execution_count": 10
        }
      ]
    },
    {
      "cell_type": "code",
      "source": [
        "# output = 123891\n",
        "for char in string:\n",
        "  if char.isnumeric():\n",
        "    print(char, end='')"
      ],
      "metadata": {
        "colab": {
          "base_uri": "https://localhost:8080/"
        },
        "id": "KN6jVBPlSxxY",
        "outputId": "ff5e130e-8f3e-4629-8362-496efecf2c59"
      },
      "execution_count": 15,
      "outputs": [
        {
          "output_type": "stream",
          "name": "stdout",
          "text": [
            "123891"
          ]
        }
      ]
    },
    {
      "cell_type": "code",
      "source": [
        "4%2"
      ],
      "metadata": {
        "colab": {
          "base_uri": "https://localhost:8080/"
        },
        "id": "ddybLt2zS5_7",
        "outputId": "0976ff23-e177-4b6e-fd12-1068300ee429"
      },
      "execution_count": 21,
      "outputs": [
        {
          "output_type": "execute_result",
          "data": {
            "text/plain": [
              "0"
            ]
          },
          "metadata": {},
          "execution_count": 21
        }
      ]
    },
    {
      "cell_type": "code",
      "source": [
        "num = 8\n",
        "for i in range(2, num):\n",
        "  if num % i == 0:\n",
        "    print('not a prime')\n",
        "    break\n",
        "else:\n",
        "  print(\"it is a prime\")"
      ],
      "metadata": {
        "colab": {
          "base_uri": "https://localhost:8080/"
        },
        "id": "B-cQfashUJ0D",
        "outputId": "0295322a-318e-4ed1-b091-c1f8aaea0772"
      },
      "execution_count": 27,
      "outputs": [
        {
          "output_type": "stream",
          "name": "stdout",
          "text": [
            "not a prime\n"
          ]
        }
      ]
    },
    {
      "cell_type": "code",
      "source": [],
      "metadata": {
        "id": "8redPyd7VDzO"
      },
      "execution_count": null,
      "outputs": []
    }
  ]
}